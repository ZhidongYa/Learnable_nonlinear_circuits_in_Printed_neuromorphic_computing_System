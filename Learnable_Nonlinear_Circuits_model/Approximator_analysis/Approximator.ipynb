{
 "cells": [
  {
   "cell_type": "code",
   "execution_count": 44,
   "id": "b9962a17",
   "metadata": {},
   "outputs": [],
   "source": [
    "import torch\n",
    "import numpy as np\n",
    "import matplotlib.pyplot as plt\n",
    "import seaborn as sns\n",
    "import pandas as pd"
   ]
  },
  {
   "cell_type": "code",
   "execution_count": 3,
   "id": "adaeb9c0",
   "metadata": {},
   "outputs": [
    {
     "data": {
      "text/plain": [
       "torch.Size([10, 14, 4, 3])"
      ]
     },
     "execution_count": 3,
     "metadata": {},
     "output_type": "execute_result"
    }
   ],
   "source": [
    "result = torch.load('Approximatornlc.result')\n",
    "result.shape# seeds, depth[2-15], lr[0, 0.1, 0.01, 0.001], [train, valid, test]"
   ]
  },
  {
   "cell_type": "code",
   "execution_count": 13,
   "id": "ecc1b2b0",
   "metadata": {},
   "outputs": [
    {
     "data": {
      "text/plain": [
       "tensor([[[[1.7217e-03, 2.0122e-03, 1.6569e-03],\n",
       "          [1.5936e-03, 1.8582e-03, 1.5384e-03],\n",
       "          [1.5886e-03, 1.8421e-03, 1.5321e-03],\n",
       "          [1.5871e-03, 1.8440e-03, 1.5343e-03]],\n",
       "\n",
       "         [[6.0717e-03, 6.2837e-03, 6.0558e-03],\n",
       "          [7.0397e-04, 7.2616e-04, 7.3515e-04],\n",
       "          [2.6049e-04, 3.1653e-04, 2.4930e-04],\n",
       "          [1.1454e-03, 1.3826e-03, 1.0951e-03]],\n",
       "\n",
       "         [[5.7350e-03, 6.1700e-03, 5.6536e-03],\n",
       "          [3.2967e-04, 3.8571e-04, 3.0437e-04],\n",
       "          [9.3211e-05, 1.1092e-04, 8.4799e-05],\n",
       "          [1.1707e-04, 1.3646e-04, 1.0811e-04]],\n",
       "\n",
       "         ...,\n",
       "\n",
       "         [[9.9345e+01, 1.0515e+02, 9.3876e+01],\n",
       "          [2.5967e-03, 2.7341e-03, 2.6390e-03],\n",
       "          [1.4195e-05, 2.4281e-05, 1.8834e-05],\n",
       "          [1.6827e-05, 2.3147e-05, 1.6032e-05]],\n",
       "\n",
       "         [[1.9989e+07, 2.0035e+07, 1.9781e+07],\n",
       "          [5.2431e-03, 5.6463e-03, 5.2507e-03],\n",
       "          [9.8245e-06, 1.6731e-05, 1.2375e-05],\n",
       "          [3.8826e-05, 5.9001e-05, 3.5368e-05]],\n",
       "\n",
       "         [[3.9830e+07, 3.9795e+07, 3.9939e+07],\n",
       "          [7.4286e-04, 8.3902e-04, 6.9364e-04],\n",
       "          [8.3615e-06, 1.1808e-05, 9.5111e-06],\n",
       "          [4.0310e-05, 5.5902e-05, 2.8433e-05]]],\n",
       "\n",
       "\n",
       "        [[[1.5890e-03, 1.8522e-03, 1.5363e-03],\n",
       "          [1.5940e-03, 1.8596e-03, 1.5405e-03],\n",
       "          [1.5879e-03, 1.8427e-03, 1.5323e-03],\n",
       "          [1.5860e-03, 1.8441e-03, 1.5330e-03]],\n",
       "\n",
       "         [[2.0349e-03, 2.3110e-03, 2.0129e-03],\n",
       "          [3.1596e-04, 3.6745e-04, 3.0573e-04],\n",
       "          [6.8897e-04, 9.4313e-04, 6.0979e-04],\n",
       "          [2.6030e-04, 3.1519e-04, 2.5023e-04]],\n",
       "\n",
       "         [[1.6848e-03, 2.0471e-03, 1.6365e-03],\n",
       "          [2.3664e-04, 2.9400e-04, 2.1637e-04],\n",
       "          [1.2517e-04, 1.5820e-04, 1.0920e-04],\n",
       "          [2.0150e-04, 2.3721e-04, 1.8824e-04]],\n",
       "\n",
       "         ...,\n",
       "\n",
       "         [[2.3633e+05, 2.3529e+05, 2.3500e+05],\n",
       "          [3.7697e-03, 4.1914e-03, 3.6494e-03],\n",
       "          [1.1663e-05, 1.4920e-05, 1.2229e-05],\n",
       "          [1.5673e-05, 1.9426e-05, 1.4649e-05]],\n",
       "\n",
       "         [[1.4559e+04, 1.4766e+04, 1.4266e+04],\n",
       "          [3.0420e-02, 3.1743e-02, 2.9960e-02],\n",
       "          [1.7619e-05, 2.8911e-05, 2.0748e-05],\n",
       "          [4.3325e-04, 4.6120e-04, 4.1584e-04]],\n",
       "\n",
       "         [[1.0229e+05, 1.0270e+05, 1.0108e+05],\n",
       "          [2.4529e-02, 2.5890e-02, 2.4191e-02],\n",
       "          [1.2485e-05, 2.3925e-05, 1.6936e-05],\n",
       "          [9.9214e-06, 1.5757e-05, 9.4599e-06]]],\n",
       "\n",
       "\n",
       "        [[[1.6637e-03, 1.9401e-03, 1.6059e-03],\n",
       "          [1.5957e-03, 1.8599e-03, 1.5393e-03],\n",
       "          [1.5884e-03, 1.8424e-03, 1.5330e-03],\n",
       "          [1.5860e-03, 1.8441e-03, 1.5329e-03]],\n",
       "\n",
       "         [[5.0524e-03, 5.4272e-03, 5.0926e-03],\n",
       "          [2.5769e-04, 3.0909e-04, 2.4786e-04],\n",
       "          [6.9185e-04, 9.4011e-04, 6.1444e-04],\n",
       "          [7.4328e-04, 7.6283e-04, 7.7820e-04]],\n",
       "\n",
       "         [[1.6390e-03, 1.9344e-03, 1.5898e-03],\n",
       "          [2.5097e-04, 3.0700e-04, 2.3818e-04],\n",
       "          [1.0472e-04, 1.1870e-04, 9.2075e-05],\n",
       "          [1.6357e-04, 1.7326e-04, 1.5196e-04]],\n",
       "\n",
       "         ...,\n",
       "\n",
       "         [[1.7094e+08, 1.7191e+08, 1.6913e+08],\n",
       "          [5.0802e-03, 5.4454e-03, 5.0655e-03],\n",
       "          [1.0132e-05, 1.5731e-05, 1.1314e-05],\n",
       "          [1.7032e-05, 2.1317e-05, 1.5707e-05]],\n",
       "\n",
       "         [[4.1201e+07, 4.3988e+07, 4.0161e+07],\n",
       "          [1.8482e-02, 1.9438e-02, 1.8305e-02],\n",
       "          [2.0190e-05, 3.1469e-05, 2.0260e-05],\n",
       "          [2.2013e-05, 2.6418e-05, 1.9873e-05]],\n",
       "\n",
       "         [[7.2069e+08, 7.2629e+08, 7.1342e+08],\n",
       "          [5.3316e-03, 5.7233e-03, 5.3080e-03],\n",
       "          [5.1681e-05, 6.1445e-05, 5.5386e-05],\n",
       "          [4.1345e-05, 5.8797e-05, 4.3166e-05]]],\n",
       "\n",
       "\n",
       "        ...,\n",
       "\n",
       "\n",
       "        [[[1.6026e-03, 1.8608e-03, 1.5535e-03],\n",
       "          [1.5899e-03, 1.8408e-03, 1.5312e-03],\n",
       "          [1.5888e-03, 1.8421e-03, 1.5333e-03],\n",
       "          [1.5861e-03, 1.8440e-03, 1.5330e-03]],\n",
       "\n",
       "         [[1.7492e-03, 2.1152e-03, 1.7023e-03],\n",
       "          [2.9705e-04, 3.5080e-04, 2.9203e-04],\n",
       "          [2.5803e-04, 2.7535e-04, 2.4391e-04],\n",
       "          [3.1017e-04, 3.5712e-04, 3.0173e-04]],\n",
       "\n",
       "         [[2.1094e-03, 2.4460e-03, 2.0048e-03],\n",
       "          [2.6373e-04, 3.2557e-04, 2.5213e-04],\n",
       "          [1.9570e-04, 2.4758e-04, 1.9109e-04],\n",
       "          [2.2665e-04, 2.7310e-04, 2.1869e-04]],\n",
       "\n",
       "         ...,\n",
       "\n",
       "         [[5.5631e+07, 5.6076e+07, 5.5190e+07],\n",
       "          [3.8444e-03, 4.0693e-03, 3.8303e-03],\n",
       "          [1.8264e-05, 2.5682e-05, 2.0020e-05],\n",
       "          [1.9072e-05, 2.2874e-05, 1.6069e-05]],\n",
       "\n",
       "         [[1.9327e+07, 1.9223e+07, 1.9112e+07],\n",
       "          [1.6191e-02, 1.7167e-02, 1.6108e-02],\n",
       "          [6.3866e-06, 1.0643e-05, 7.0338e-06],\n",
       "          [2.1120e-05, 2.5971e-05, 2.0619e-05]],\n",
       "\n",
       "         [[6.2974e+06, 6.3802e+06, 6.3528e+06],\n",
       "          [1.0287e-03, 1.1925e-03, 9.4732e-04],\n",
       "          [7.3380e-06, 1.0274e-05, 8.9253e-06],\n",
       "          [1.3740e-05, 1.7584e-05, 1.5282e-05]]],\n",
       "\n",
       "\n",
       "        [[[1.6465e-03, 1.9343e-03, 1.5907e-03],\n",
       "          [1.5955e-03, 1.8595e-03, 1.5391e-03],\n",
       "          [1.5888e-03, 1.8424e-03, 1.5330e-03],\n",
       "          [1.5866e-03, 1.8442e-03, 1.5345e-03]],\n",
       "\n",
       "         [[1.8751e-03, 2.2066e-03, 1.8688e-03],\n",
       "          [3.2557e-04, 3.8983e-04, 3.1789e-04],\n",
       "          [6.4632e-04, 8.8489e-04, 5.6544e-04],\n",
       "          [1.1347e-03, 1.3931e-03, 1.0652e-03]],\n",
       "\n",
       "         [[5.3133e-03, 5.6478e-03, 5.2665e-03],\n",
       "          [2.2494e-04, 2.8532e-04, 2.0930e-04],\n",
       "          [1.7608e-04, 2.2042e-04, 1.7685e-04],\n",
       "          [2.2546e-04, 2.5715e-04, 2.0944e-04]],\n",
       "\n",
       "         ...,\n",
       "\n",
       "         [[2.2598e+07, 2.2760e+07, 2.2220e+07],\n",
       "          [9.3245e-04, 1.0894e-03, 8.7712e-04],\n",
       "          [1.8109e-05, 3.0162e-05, 2.0173e-05],\n",
       "          [2.4773e-05, 3.3992e-05, 2.8658e-05]],\n",
       "\n",
       "         [[2.1122e+05, 2.2359e+05, 2.1790e+05],\n",
       "          [3.0739e-02, 3.2223e-02, 3.0261e-02],\n",
       "          [8.2391e-06, 1.2466e-05, 8.6751e-06],\n",
       "          [4.8682e-05, 7.1700e-05, 5.5356e-05]],\n",
       "\n",
       "         [[2.8139e+09, 2.8232e+09, 2.7922e+09],\n",
       "          [3.2172e-02, 3.3729e-02, 3.1642e-02],\n",
       "          [9.0609e-06, 1.1906e-05, 1.0622e-05],\n",
       "          [1.3593e-05, 1.7637e-05, 1.2567e-05]]],\n",
       "\n",
       "\n",
       "        [[[1.6195e-03, 1.8647e-03, 1.5650e-03],\n",
       "          [1.5967e-03, 1.8621e-03, 1.5391e-03],\n",
       "          [1.5895e-03, 1.8419e-03, 1.5333e-03],\n",
       "          [1.5865e-03, 1.8441e-03, 1.5341e-03]],\n",
       "\n",
       "         [[3.9060e-03, 4.3324e-03, 3.8318e-03],\n",
       "          [5.5606e-04, 7.2601e-04, 5.1948e-04],\n",
       "          [6.0458e-04, 6.1294e-04, 5.8590e-04],\n",
       "          [1.1267e-03, 1.1629e-03, 1.1605e-03]],\n",
       "\n",
       "         [[5.0221e-03, 5.4901e-03, 4.9832e-03],\n",
       "          [2.1155e-04, 2.4813e-04, 1.9946e-04],\n",
       "          [2.0549e-04, 2.5137e-04, 1.9804e-04],\n",
       "          [7.4570e-04, 9.9391e-04, 6.7130e-04]],\n",
       "\n",
       "         ...,\n",
       "\n",
       "         [[1.8423e+07, 1.8559e+07, 1.8222e+07],\n",
       "          [3.2324e-02, 3.3748e-02, 3.1861e-02],\n",
       "          [6.5962e-06, 9.5343e-06, 7.2837e-06],\n",
       "          [1.8545e-05, 2.5111e-05, 1.9342e-05]],\n",
       "\n",
       "         [[3.1989e+07, 3.2268e+07, 3.1596e+07],\n",
       "          [2.1097e-02, 2.2137e-02, 2.0808e-02],\n",
       "          [1.8352e-05, 2.2660e-05, 1.8082e-05],\n",
       "          [1.9701e-05, 2.5830e-05, 1.8643e-05]],\n",
       "\n",
       "         [[6.5094e+09, 6.5511e+09, 6.4490e+09],\n",
       "          [1.1500e-02, 1.2190e-02, 1.1261e-02],\n",
       "          [1.0648e-05, 1.8181e-05, 1.1412e-05],\n",
       "          [1.2284e-05, 1.5256e-05, 1.3897e-05]]]], requires_grad=True)"
      ]
     },
     "execution_count": 13,
     "metadata": {},
     "output_type": "execute_result"
    }
   ],
   "source": [
    "result"
   ]
  },
  {
   "cell_type": "code",
   "execution_count": 67,
   "id": "656bfd92",
   "metadata": {},
   "outputs": [
    {
     "data": {
      "text/plain": [
       "torch.Size([10, 14, 4])"
      ]
     },
     "execution_count": 67,
     "metadata": {},
     "output_type": "execute_result"
    }
   ],
   "source": [
    "result_training = result[:,:, :, 0]\n",
    "result_validation = result[:,:, :, 1]\n",
    "result_test = result[:,:, :, 2]\n",
    "result_training.shape"
   ]
  },
  {
   "cell_type": "code",
   "execution_count": 68,
   "id": "9d99ffbd",
   "metadata": {},
   "outputs": [],
   "source": [
    "show = result_validation[:,:,2]\n",
    "show1 = show.detach().numpy()"
   ]
  },
  {
   "cell_type": "code",
   "execution_count": 69,
   "id": "d242538c",
   "metadata": {},
   "outputs": [
    {
     "data": {
      "text/plain": [
       "(10, 14)"
      ]
     },
     "execution_count": 69,
     "metadata": {},
     "output_type": "execute_result"
    }
   ],
   "source": [
    "show1.shape"
   ]
  },
  {
   "cell_type": "code",
   "execution_count": 70,
   "id": "168cc4a5",
   "metadata": {},
   "outputs": [],
   "source": [
    "\n",
    "df1 = pd.DataFrame(show1, index=['Loss', 'Loss','Loss','Loss','Loss','Loss','Loss','Loss','Loss','Loss'], columns=[2,3,4,5,6,7,8,9,10,11,12,13,14,15])"
   ]
  },
  {
   "cell_type": "code",
   "execution_count": 71,
   "id": "4be16eff",
   "metadata": {
    "scrolled": true
   },
   "outputs": [
    {
     "data": {
      "text/html": [
       "<div>\n",
       "<style scoped>\n",
       "    .dataframe tbody tr th:only-of-type {\n",
       "        vertical-align: middle;\n",
       "    }\n",
       "\n",
       "    .dataframe tbody tr th {\n",
       "        vertical-align: top;\n",
       "    }\n",
       "\n",
       "    .dataframe thead th {\n",
       "        text-align: right;\n",
       "    }\n",
       "</style>\n",
       "<table border=\"1\" class=\"dataframe\">\n",
       "  <thead>\n",
       "    <tr style=\"text-align: right;\">\n",
       "      <th></th>\n",
       "      <th>2</th>\n",
       "      <th>3</th>\n",
       "      <th>4</th>\n",
       "      <th>5</th>\n",
       "      <th>6</th>\n",
       "      <th>7</th>\n",
       "      <th>8</th>\n",
       "      <th>9</th>\n",
       "      <th>10</th>\n",
       "      <th>11</th>\n",
       "      <th>12</th>\n",
       "      <th>13</th>\n",
       "      <th>14</th>\n",
       "      <th>15</th>\n",
       "    </tr>\n",
       "  </thead>\n",
       "  <tbody>\n",
       "    <tr>\n",
       "      <th>Loss</th>\n",
       "      <td>0.001842</td>\n",
       "      <td>0.000317</td>\n",
       "      <td>0.000111</td>\n",
       "      <td>0.000110</td>\n",
       "      <td>0.000055</td>\n",
       "      <td>0.000045</td>\n",
       "      <td>0.000034</td>\n",
       "      <td>0.000023</td>\n",
       "      <td>0.000022</td>\n",
       "      <td>0.000022</td>\n",
       "      <td>0.000016</td>\n",
       "      <td>0.000024</td>\n",
       "      <td>0.000017</td>\n",
       "      <td>0.000012</td>\n",
       "    </tr>\n",
       "    <tr>\n",
       "      <th>Loss</th>\n",
       "      <td>0.001843</td>\n",
       "      <td>0.000943</td>\n",
       "      <td>0.000158</td>\n",
       "      <td>0.000106</td>\n",
       "      <td>0.000044</td>\n",
       "      <td>0.000049</td>\n",
       "      <td>0.000031</td>\n",
       "      <td>0.000026</td>\n",
       "      <td>0.000017</td>\n",
       "      <td>0.000033</td>\n",
       "      <td>0.000033</td>\n",
       "      <td>0.000015</td>\n",
       "      <td>0.000029</td>\n",
       "      <td>0.000024</td>\n",
       "    </tr>\n",
       "    <tr>\n",
       "      <th>Loss</th>\n",
       "      <td>0.001842</td>\n",
       "      <td>0.000940</td>\n",
       "      <td>0.000119</td>\n",
       "      <td>0.000055</td>\n",
       "      <td>0.000061</td>\n",
       "      <td>0.000038</td>\n",
       "      <td>0.000039</td>\n",
       "      <td>0.000024</td>\n",
       "      <td>0.000035</td>\n",
       "      <td>0.000037</td>\n",
       "      <td>0.000025</td>\n",
       "      <td>0.000016</td>\n",
       "      <td>0.000031</td>\n",
       "      <td>0.000061</td>\n",
       "    </tr>\n",
       "    <tr>\n",
       "      <th>Loss</th>\n",
       "      <td>0.001843</td>\n",
       "      <td>0.000306</td>\n",
       "      <td>0.000132</td>\n",
       "      <td>0.000066</td>\n",
       "      <td>0.000039</td>\n",
       "      <td>0.000035</td>\n",
       "      <td>0.000023</td>\n",
       "      <td>0.000030</td>\n",
       "      <td>0.000025</td>\n",
       "      <td>0.000018</td>\n",
       "      <td>0.000032</td>\n",
       "      <td>0.000030</td>\n",
       "      <td>0.000017</td>\n",
       "      <td>0.000008</td>\n",
       "    </tr>\n",
       "    <tr>\n",
       "      <th>Loss</th>\n",
       "      <td>0.001842</td>\n",
       "      <td>0.000937</td>\n",
       "      <td>0.000141</td>\n",
       "      <td>0.000085</td>\n",
       "      <td>0.000058</td>\n",
       "      <td>0.000032</td>\n",
       "      <td>0.000023</td>\n",
       "      <td>0.000025</td>\n",
       "      <td>0.000024</td>\n",
       "      <td>0.000014</td>\n",
       "      <td>0.000024</td>\n",
       "      <td>0.000018</td>\n",
       "      <td>0.000018</td>\n",
       "      <td>0.000023</td>\n",
       "    </tr>\n",
       "    <tr>\n",
       "      <th>Loss</th>\n",
       "      <td>0.001842</td>\n",
       "      <td>0.000313</td>\n",
       "      <td>0.000133</td>\n",
       "      <td>0.000081</td>\n",
       "      <td>0.000066</td>\n",
       "      <td>0.000025</td>\n",
       "      <td>0.000032</td>\n",
       "      <td>0.000026</td>\n",
       "      <td>0.000030</td>\n",
       "      <td>0.000046</td>\n",
       "      <td>0.000018</td>\n",
       "      <td>0.000024</td>\n",
       "      <td>0.000011</td>\n",
       "      <td>0.000019</td>\n",
       "    </tr>\n",
       "    <tr>\n",
       "      <th>Loss</th>\n",
       "      <td>0.001843</td>\n",
       "      <td>0.000313</td>\n",
       "      <td>0.000122</td>\n",
       "      <td>0.000081</td>\n",
       "      <td>0.000046</td>\n",
       "      <td>0.000057</td>\n",
       "      <td>0.000025</td>\n",
       "      <td>0.000019</td>\n",
       "      <td>0.000025</td>\n",
       "      <td>0.000022</td>\n",
       "      <td>0.000032</td>\n",
       "      <td>0.000021</td>\n",
       "      <td>0.000012</td>\n",
       "      <td>0.000041</td>\n",
       "    </tr>\n",
       "    <tr>\n",
       "      <th>Loss</th>\n",
       "      <td>0.001842</td>\n",
       "      <td>0.000275</td>\n",
       "      <td>0.000248</td>\n",
       "      <td>0.000103</td>\n",
       "      <td>0.000043</td>\n",
       "      <td>0.000042</td>\n",
       "      <td>0.000041</td>\n",
       "      <td>0.000028</td>\n",
       "      <td>0.000019</td>\n",
       "      <td>0.000034</td>\n",
       "      <td>0.000034</td>\n",
       "      <td>0.000026</td>\n",
       "      <td>0.000011</td>\n",
       "      <td>0.000010</td>\n",
       "    </tr>\n",
       "    <tr>\n",
       "      <th>Loss</th>\n",
       "      <td>0.001842</td>\n",
       "      <td>0.000885</td>\n",
       "      <td>0.000220</td>\n",
       "      <td>0.000104</td>\n",
       "      <td>0.000051</td>\n",
       "      <td>0.000035</td>\n",
       "      <td>0.000049</td>\n",
       "      <td>0.000044</td>\n",
       "      <td>0.000038</td>\n",
       "      <td>0.000015</td>\n",
       "      <td>0.000026</td>\n",
       "      <td>0.000030</td>\n",
       "      <td>0.000012</td>\n",
       "      <td>0.000012</td>\n",
       "    </tr>\n",
       "    <tr>\n",
       "      <th>Loss</th>\n",
       "      <td>0.001842</td>\n",
       "      <td>0.000613</td>\n",
       "      <td>0.000251</td>\n",
       "      <td>0.000100</td>\n",
       "      <td>0.000045</td>\n",
       "      <td>0.000058</td>\n",
       "      <td>0.000023</td>\n",
       "      <td>0.000017</td>\n",
       "      <td>0.000017</td>\n",
       "      <td>0.000021</td>\n",
       "      <td>0.000010</td>\n",
       "      <td>0.000010</td>\n",
       "      <td>0.000023</td>\n",
       "      <td>0.000018</td>\n",
       "    </tr>\n",
       "  </tbody>\n",
       "</table>\n",
       "</div>"
      ],
      "text/plain": [
       "            2         3         4         5         6         7         8   \\\n",
       "Loss  0.001842  0.000317  0.000111  0.000110  0.000055  0.000045  0.000034   \n",
       "Loss  0.001843  0.000943  0.000158  0.000106  0.000044  0.000049  0.000031   \n",
       "Loss  0.001842  0.000940  0.000119  0.000055  0.000061  0.000038  0.000039   \n",
       "Loss  0.001843  0.000306  0.000132  0.000066  0.000039  0.000035  0.000023   \n",
       "Loss  0.001842  0.000937  0.000141  0.000085  0.000058  0.000032  0.000023   \n",
       "Loss  0.001842  0.000313  0.000133  0.000081  0.000066  0.000025  0.000032   \n",
       "Loss  0.001843  0.000313  0.000122  0.000081  0.000046  0.000057  0.000025   \n",
       "Loss  0.001842  0.000275  0.000248  0.000103  0.000043  0.000042  0.000041   \n",
       "Loss  0.001842  0.000885  0.000220  0.000104  0.000051  0.000035  0.000049   \n",
       "Loss  0.001842  0.000613  0.000251  0.000100  0.000045  0.000058  0.000023   \n",
       "\n",
       "            9         10        11        12        13        14        15  \n",
       "Loss  0.000023  0.000022  0.000022  0.000016  0.000024  0.000017  0.000012  \n",
       "Loss  0.000026  0.000017  0.000033  0.000033  0.000015  0.000029  0.000024  \n",
       "Loss  0.000024  0.000035  0.000037  0.000025  0.000016  0.000031  0.000061  \n",
       "Loss  0.000030  0.000025  0.000018  0.000032  0.000030  0.000017  0.000008  \n",
       "Loss  0.000025  0.000024  0.000014  0.000024  0.000018  0.000018  0.000023  \n",
       "Loss  0.000026  0.000030  0.000046  0.000018  0.000024  0.000011  0.000019  \n",
       "Loss  0.000019  0.000025  0.000022  0.000032  0.000021  0.000012  0.000041  \n",
       "Loss  0.000028  0.000019  0.000034  0.000034  0.000026  0.000011  0.000010  \n",
       "Loss  0.000044  0.000038  0.000015  0.000026  0.000030  0.000012  0.000012  \n",
       "Loss  0.000017  0.000017  0.000021  0.000010  0.000010  0.000023  0.000018  "
      ]
     },
     "execution_count": 71,
     "metadata": {},
     "output_type": "execute_result"
    }
   ],
   "source": [
    "df1"
   ]
  },
  {
   "cell_type": "code",
   "execution_count": 78,
   "id": "d2a22527",
   "metadata": {},
   "outputs": [
    {
     "name": "stderr",
     "output_type": "stream",
     "text": [
      "C:\\Users\\PC\\AppData\\Local\\Temp\\ipykernel_5392\\1206962528.py:15: FutureWarning: The frame.append method is deprecated and will be removed from pandas in a future version. Use pandas.concat instead.\n",
      "  df = a2.append(a3)\n",
      "C:\\Users\\PC\\AppData\\Local\\Temp\\ipykernel_5392\\1206962528.py:16: FutureWarning: The frame.append method is deprecated and will be removed from pandas in a future version. Use pandas.concat instead.\n",
      "  df=df.append(a4).append(a5).append(a6).append(a7).append(a8).append(a9).append(a10).append(a11).append(a12).append(a13)\n",
      "C:\\Users\\PC\\AppData\\Local\\Temp\\ipykernel_5392\\1206962528.py:16: FutureWarning: The frame.append method is deprecated and will be removed from pandas in a future version. Use pandas.concat instead.\n",
      "  df=df.append(a4).append(a5).append(a6).append(a7).append(a8).append(a9).append(a10).append(a11).append(a12).append(a13)\n",
      "C:\\Users\\PC\\AppData\\Local\\Temp\\ipykernel_5392\\1206962528.py:16: FutureWarning: The frame.append method is deprecated and will be removed from pandas in a future version. Use pandas.concat instead.\n",
      "  df=df.append(a4).append(a5).append(a6).append(a7).append(a8).append(a9).append(a10).append(a11).append(a12).append(a13)\n",
      "C:\\Users\\PC\\AppData\\Local\\Temp\\ipykernel_5392\\1206962528.py:16: FutureWarning: The frame.append method is deprecated and will be removed from pandas in a future version. Use pandas.concat instead.\n",
      "  df=df.append(a4).append(a5).append(a6).append(a7).append(a8).append(a9).append(a10).append(a11).append(a12).append(a13)\n",
      "C:\\Users\\PC\\AppData\\Local\\Temp\\ipykernel_5392\\1206962528.py:16: FutureWarning: The frame.append method is deprecated and will be removed from pandas in a future version. Use pandas.concat instead.\n",
      "  df=df.append(a4).append(a5).append(a6).append(a7).append(a8).append(a9).append(a10).append(a11).append(a12).append(a13)\n",
      "C:\\Users\\PC\\AppData\\Local\\Temp\\ipykernel_5392\\1206962528.py:16: FutureWarning: The frame.append method is deprecated and will be removed from pandas in a future version. Use pandas.concat instead.\n",
      "  df=df.append(a4).append(a5).append(a6).append(a7).append(a8).append(a9).append(a10).append(a11).append(a12).append(a13)\n",
      "C:\\Users\\PC\\AppData\\Local\\Temp\\ipykernel_5392\\1206962528.py:16: FutureWarning: The frame.append method is deprecated and will be removed from pandas in a future version. Use pandas.concat instead.\n",
      "  df=df.append(a4).append(a5).append(a6).append(a7).append(a8).append(a9).append(a10).append(a11).append(a12).append(a13)\n",
      "C:\\Users\\PC\\AppData\\Local\\Temp\\ipykernel_5392\\1206962528.py:16: FutureWarning: The frame.append method is deprecated and will be removed from pandas in a future version. Use pandas.concat instead.\n",
      "  df=df.append(a4).append(a5).append(a6).append(a7).append(a8).append(a9).append(a10).append(a11).append(a12).append(a13)\n",
      "C:\\Users\\PC\\AppData\\Local\\Temp\\ipykernel_5392\\1206962528.py:16: FutureWarning: The frame.append method is deprecated and will be removed from pandas in a future version. Use pandas.concat instead.\n",
      "  df=df.append(a4).append(a5).append(a6).append(a7).append(a8).append(a9).append(a10).append(a11).append(a12).append(a13)\n",
      "C:\\Users\\PC\\AppData\\Local\\Temp\\ipykernel_5392\\1206962528.py:16: FutureWarning: The frame.append method is deprecated and will be removed from pandas in a future version. Use pandas.concat instead.\n",
      "  df=df.append(a4).append(a5).append(a6).append(a7).append(a8).append(a9).append(a10).append(a11).append(a12).append(a13)\n"
     ]
    },
    {
     "data": {
      "text/html": [
       "<div>\n",
       "<style scoped>\n",
       "    .dataframe tbody tr th:only-of-type {\n",
       "        vertical-align: middle;\n",
       "    }\n",
       "\n",
       "    .dataframe tbody tr th {\n",
       "        vertical-align: top;\n",
       "    }\n",
       "\n",
       "    .dataframe thead th {\n",
       "        text-align: right;\n",
       "    }\n",
       "</style>\n",
       "<table border=\"1\" class=\"dataframe\">\n",
       "  <thead>\n",
       "    <tr style=\"text-align: right;\">\n",
       "      <th></th>\n",
       "      <th>Layers</th>\n",
       "      <th>valid_loss</th>\n",
       "    </tr>\n",
       "  </thead>\n",
       "  <tbody>\n",
       "    <tr>\n",
       "      <th>0</th>\n",
       "      <td>4</td>\n",
       "      <td>0.000111</td>\n",
       "    </tr>\n",
       "    <tr>\n",
       "      <th>1</th>\n",
       "      <td>4</td>\n",
       "      <td>0.000158</td>\n",
       "    </tr>\n",
       "    <tr>\n",
       "      <th>2</th>\n",
       "      <td>4</td>\n",
       "      <td>0.000119</td>\n",
       "    </tr>\n",
       "    <tr>\n",
       "      <th>3</th>\n",
       "      <td>4</td>\n",
       "      <td>0.000132</td>\n",
       "    </tr>\n",
       "    <tr>\n",
       "      <th>4</th>\n",
       "      <td>4</td>\n",
       "      <td>0.000141</td>\n",
       "    </tr>\n",
       "    <tr>\n",
       "      <th>...</th>\n",
       "      <td>...</td>\n",
       "      <td>...</td>\n",
       "    </tr>\n",
       "    <tr>\n",
       "      <th>5</th>\n",
       "      <td>15</td>\n",
       "      <td>0.000019</td>\n",
       "    </tr>\n",
       "    <tr>\n",
       "      <th>6</th>\n",
       "      <td>15</td>\n",
       "      <td>0.000041</td>\n",
       "    </tr>\n",
       "    <tr>\n",
       "      <th>7</th>\n",
       "      <td>15</td>\n",
       "      <td>0.000010</td>\n",
       "    </tr>\n",
       "    <tr>\n",
       "      <th>8</th>\n",
       "      <td>15</td>\n",
       "      <td>0.000012</td>\n",
       "    </tr>\n",
       "    <tr>\n",
       "      <th>9</th>\n",
       "      <td>15</td>\n",
       "      <td>0.000018</td>\n",
       "    </tr>\n",
       "  </tbody>\n",
       "</table>\n",
       "<p>120 rows × 2 columns</p>\n",
       "</div>"
      ],
      "text/plain": [
       "   Layers  valid_loss\n",
       "0       4    0.000111\n",
       "1       4    0.000158\n",
       "2       4    0.000119\n",
       "3       4    0.000132\n",
       "4       4    0.000141\n",
       "..    ...         ...\n",
       "5      15    0.000019\n",
       "6      15    0.000041\n",
       "7      15    0.000010\n",
       "8      15    0.000012\n",
       "9      15    0.000018\n",
       "\n",
       "[120 rows x 2 columns]"
      ]
     },
     "execution_count": 78,
     "metadata": {},
     "output_type": "execute_result"
    }
   ],
   "source": [
    "a = pd.DataFrame({ 'Layers' : np.repeat('2',10), 'valid_loss' : show1[:,0]})\n",
    "a1 = pd.DataFrame({ 'Layers' : np.repeat('3',10), 'valid_loss': show1[:,1] })\n",
    "a2 = pd.DataFrame({ 'Layers' : np.repeat('4',10), 'valid_loss': show1[:,2] })\n",
    "a3 = pd.DataFrame({ 'Layers' : np.repeat('5',10), 'valid_loss': show1[:,3] })\n",
    "a4 = pd.DataFrame({ 'Layers' : np.repeat('6',10), 'valid_loss': show1[:,4] })\n",
    "a5 = pd.DataFrame({ 'Layers' : np.repeat('7',10), 'valid_loss': show1[:,5] })\n",
    "a6 = pd.DataFrame({ 'Layers' : np.repeat('8',10), 'valid_loss': show1[:,6] })\n",
    "a7 = pd.DataFrame({ 'Layers' : np.repeat('9',10), 'valid_loss': show1[:,7] })\n",
    "a8 = pd.DataFrame({ 'Layers' : np.repeat('10',10), 'valid_loss': show1[:,8]})\n",
    "a9 = pd.DataFrame({ 'Layers' : np.repeat('11',10), 'valid_loss': show1[:,9] })\n",
    "a10 = pd.DataFrame({ 'Layers' : np.repeat('12',10), 'valid_loss': show1[:,10] })\n",
    "a11 = pd.DataFrame({ 'Layers' : np.repeat('13',10), 'valid_loss': show1[:,11] })\n",
    "a12 = pd.DataFrame({ 'Layers' : np.repeat('14',10), 'valid_loss': show1[:,12] })\n",
    "a13 = pd.DataFrame({ 'Layers' : np.repeat('15',10), 'valid_loss': show1[:,13] })\n",
    "df = a2.append(a3)\n",
    "df=df.append(a4).append(a5).append(a6).append(a7).append(a8).append(a9).append(a10).append(a11).append(a12).append(a13)\n",
    "df"
   ]
  },
  {
   "cell_type": "code",
   "execution_count": 80,
   "id": "861e150b",
   "metadata": {},
   "outputs": [
    {
     "data": {
      "image/png": "[encoded data removed]",
      "text/plain": [
       "<Figure size 432x288 with 1 Axes>"
      ]
     },
     "metadata": {
      "needs_background": "light"
     },
     "output_type": "display_data"
    }
   ],
   "source": [
    "sns.boxplot(x='Layers', y='valid_loss', data=df)\n",
    "plt.savefig(f'approximatorloss.pdf', format='pdf', bbox_inches='tight')"
   ]
  },
  {
   "cell_type": "code",
   "execution_count": 42,
   "id": "b90d7cab",
   "metadata": {},
   "outputs": [
    {
     "data": {
      "text/plain": [
       "(5.005813e-06, 1.3340227e-05)"
      ]
     },
     "execution_count": 42,
     "metadata": {},
     "output_type": "execute_result"
    }
   ],
   "source": [
    "a,b = result_test[:,12,2], result_test[:,13,2]\n",
    "np.std(a.detach().numpy()),np.std(b.detach().numpy())"
   ]
  },
  {
   "cell_type": "markdown",
   "id": "b936281e",
   "metadata": {},
   "source": [
    "## result : min of test, lr = 0.01"
   ]
  },
  {
   "cell_type": "code",
   "execution_count": 64,
   "id": "b12c41b9",
   "metadata": {},
   "outputs": [
    {
     "data": {
      "text/plain": [
       "torch.Size([10, 14])"
      ]
     },
     "execution_count": 64,
     "metadata": {},
     "output_type": "execute_result"
    }
   ],
   "source": [
    "result_test = result[:,:, 2, 2]\n",
    "result_test.shape"
   ]
  },
  {
   "cell_type": "code",
   "execution_count": 65,
   "id": "553ce56d",
   "metadata": {},
   "outputs": [
    {
     "name": "stdout",
     "output_type": "stream",
     "text": [
      "tensor(110)\n"
     ]
    }
   ],
   "source": [
    "print(torch.argmin(result_test))#[12,2]"
   ]
  },
  {
   "cell_type": "code",
   "execution_count": 38,
   "id": "2922fa12",
   "metadata": {},
   "outputs": [
    {
     "data": {
      "text/plain": [
       "torch.Size([14, 4, 3])"
      ]
     },
     "execution_count": 38,
     "metadata": {},
     "output_type": "execute_result"
    }
   ],
   "source": [
    "result_seed = result.sum(0)/10\n",
    "result_seed.shape"
   ]
  },
  {
   "cell_type": "code",
   "execution_count": 39,
   "id": "506a44e1",
   "metadata": {},
   "outputs": [
    {
     "data": {
      "text/plain": [
       "torch.Size([14, 4])"
      ]
     },
     "execution_count": 39,
     "metadata": {},
     "output_type": "execute_result"
    }
   ],
   "source": [
    "result_training = result_seed[:, :, 0]\n",
    "result_validation = result_seed[:, :, 1]\n",
    "result_test = result_seed[:, :, 2]\n",
    "result_training.shape"
   ]
  },
  {
   "cell_type": "code",
   "execution_count": 40,
   "id": "327c9997",
   "metadata": {},
   "outputs": [
    {
     "data": {
      "text/plain": [
       "(tensor(1.3551e-05, grad_fn=<SelectBackward0>),\n",
       " tensor(1.6959e-05, grad_fn=<SelectBackward0>))"
      ]
     },
     "execution_count": 40,
     "metadata": {},
     "output_type": "execute_result"
    }
   ],
   "source": [
    "result_test[12,2], result_test[13,2]"
   ]
  },
  {
   "cell_type": "code",
   "execution_count": 32,
   "id": "827b83f7",
   "metadata": {},
   "outputs": [
    {
     "name": "stdout",
     "output_type": "stream",
     "text": [
      "tensor(50)\n"
     ]
    }
   ],
   "source": [
    "print(torch.argmin(result_validation))#[12,2]"
   ]
  },
  {
   "cell_type": "code",
   "execution_count": 33,
   "id": "d7ccb5d4",
   "metadata": {
    "scrolled": true
   },
   "outputs": [
    {
     "name": "stdout",
     "output_type": "stream",
     "text": [
      "tensor(50)\n"
     ]
    }
   ],
   "source": [
    "print(torch.argmin(result_test))#[12,2]"
   ]
  },
  {
   "cell_type": "code",
   "execution_count": null,
   "id": "0d318bc3",
   "metadata": {},
   "outputs": [],
   "source": []
  },
  {
   "cell_type": "code",
   "execution_count": null,
   "id": "8cbad405",
   "metadata": {},
   "outputs": [],
   "source": []
  },
  {
   "cell_type": "code",
   "execution_count": 15,
   "id": "421b9aec",
   "metadata": {},
   "outputs": [
    {
     "data": {
      "text/plain": [
       "torch.Size([14])"
      ]
     },
     "execution_count": 15,
     "metadata": {},
     "output_type": "execute_result"
    }
   ],
   "source": [
    "result_depth = result_seed.sum(1).sum(1)/12\n",
    "result_depth.shape"
   ]
  },
  {
   "cell_type": "code",
   "execution_count": 25,
   "id": "2b2fe8fa",
   "metadata": {},
   "outputs": [
    {
     "data": {
      "text/plain": [
       "(array([ 2.,  3.,  4.,  5.,  6.,  7.,  8.,  9., 10., 11., 12., 13., 14.,\n",
       "        15.]),\n",
       " array([1.6718131e-03, 1.2150812e-03, 2.1656617e-03, 3.8819209e-01,\n",
       "        2.1448220e+03, 6.6681989e+02, 4.7690926e+04, 9.3185750e+04,\n",
       "        2.0283158e+05, 1.0446358e+08, 1.8132338e+07, 7.4295285e+06,\n",
       "        4.6948910e+06, 5.4303072e+08], dtype=float32))"
      ]
     },
     "execution_count": 25,
     "metadata": {},
     "output_type": "execute_result"
    }
   ],
   "source": [
    "x = np.linspace(2,15,14)\n",
    "y = result_depth.detach().numpy()\n",
    "x,y"
   ]
  },
  {
   "cell_type": "code",
   "execution_count": 24,
   "id": "e800584e",
   "metadata": {},
   "outputs": [
    {
     "data": {
      "image/png": "[encoded data removed]",
      "text/plain": [
       "<Figure size 432x288 with 1 Axes>"
      ]
     },
     "metadata": {
      "needs_background": "light"
     },
     "output_type": "display_data"
    }
   ],
   "source": [
    "plt.figure()\n",
    "plt.plot(x, y)\n",
    "plt.show()"
   ]
  },
  {
   "cell_type": "code",
   "execution_count": 37,
   "id": "d6d461b0",
   "metadata": {},
   "outputs": [
    {
     "name": "stdout",
     "output_type": "stream",
     "text": [
      "3\n"
     ]
    }
   ],
   "source": [
    "import numpy as np\n",
    "array = np.array([[[10,7],[2,1]],[[11,6],[11,9]]])\n",
    "print(np.argmin(array))"
   ]
  },
  {
   "cell_type": "code",
   "execution_count": 8,
   "id": "2c642b38",
   "metadata": {},
   "outputs": [
    {
     "data": {
      "text/plain": [
       "tensor([[[1., 1., 1., 1.],\n",
       "         [1., 1., 1., 1.],\n",
       "         [1., 1., 1., 1.]],\n",
       "\n",
       "        [[1., 1., 1., 1.],\n",
       "         [1., 1., 1., 1.],\n",
       "         [1., 1., 1., 1.]]])"
      ]
     },
     "execution_count": 8,
     "metadata": {},
     "output_type": "execute_result"
    }
   ],
   "source": [
    "a = torch.ones((2,3,4))\n",
    "a"
   ]
  },
  {
   "cell_type": "code",
   "execution_count": 10,
   "id": "2cf54a37",
   "metadata": {},
   "outputs": [
    {
     "data": {
      "text/plain": [
       "torch.Size([3, 4])"
      ]
     },
     "execution_count": 10,
     "metadata": {},
     "output_type": "execute_result"
    }
   ],
   "source": [
    "b = a.sum(0)\n",
    "b.shape"
   ]
  },
  {
   "cell_type": "code",
   "execution_count": null,
   "id": "a523d639",
   "metadata": {},
   "outputs": [],
   "source": []
  }
 ],
 "metadata": {
  "kernelspec": {
   "display_name": "Python 3 (ipykernel)",
   "language": "python",
   "name": "python3"
  },
  "language_info": {
   "codemirror_mode": {
    "name": "ipython",
    "version": 3
   },
   "file_extension": ".py",
   "mimetype": "text/x-python",
   "name": "python",
   "nbconvert_exporter": "python",
   "pygments_lexer": "ipython3",
   "version": "3.9.12"
  }
 },
 "nbformat": 4,
 "nbformat_minor": 5
}
