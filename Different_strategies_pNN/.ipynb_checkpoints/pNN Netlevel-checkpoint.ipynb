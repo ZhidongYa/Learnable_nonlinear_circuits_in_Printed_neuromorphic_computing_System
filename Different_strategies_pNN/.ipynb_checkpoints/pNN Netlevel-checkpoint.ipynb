{
 "cells": [
  {
   "cell_type": "code",
   "execution_count": 1,
   "metadata": {},
   "outputs": [],
   "source": [
    "# net level\n",
    "import pNN_NetLevel_LNC as pNN\n",
    "\n",
    "# packages\n",
    "import os\n",
    "import math\n",
    "import torch\n",
    "import random\n",
    "import pickle\n",
    "import calendar\n",
    "import numpy as np\n",
    "import config\n",
    "import training \n",
    "import matplotlib.pyplot as plt\n",
    "from torch.utils.data import TensorDataset, DataLoader\n",
    "os.environ['KMP_DUPLICATE_LIB_OK']='True'\n",
    "torch.set_default_tensor_type(torch.FloatTensor)"
   ]
  },
  {
   "cell_type": "code",
   "execution_count": 2,
   "metadata": {},
   "outputs": [],
   "source": [
    "with open('Dataset_Pendigits.p', 'rb') as f:\n",
    "    dataset = pickle.load(f)\n",
    "X = dataset['X'].float().T\n",
    "y = dataset['y'].unsqueeze(1).T\n",
    "#E, N_features, N_class = X.shape[0], X.shape[1], torch.max(\n",
    "#    torch.unique(y)).item()+1\n",
    "x_train, y_train, x_valid, y_valid,x_test,y_test=training.SplitData(X,y,0.6,0.2,seed=0)\n",
    "x_train= x_train - torch.min(x_train, axis=0)[0]\n",
    "x_train= x_train/ (torch.max(x_train, axis=0)[0])\n",
    "x_valid= x_valid - torch.min(x_valid, axis=0)[0]\n",
    "x_valid= x_valid/ (torch.max(x_valid, axis=0)[0])\n",
    "x_test= x_test - torch.min(x_test, axis=0)[0]\n",
    "x_test= x_test/ (torch.max(x_test, axis=0)[0])\n",
    "x_train,y_train,x_valid, y_valid,x_test, y_test =x_train.T ,y_train.flatten().long(),x_valid.T ,y_valid.flatten().long(),x_test.T ,y_test.flatten().long()\n",
    "train_ds = TensorDataset(x_train, y_train)\n",
    "train_loader = DataLoader(train_ds, batch_size=y_train.numel())\n",
    "valid_ds = TensorDataset(x_valid, y_valid)\n",
    "valid_loader = DataLoader(valid_ds, batch_size=y_valid.numel())\n",
    "test_ds = TensorDataset(x_test, y_test)\n",
    "test_loader = DataLoader(test_ds, batch_size=y_test.numel())"
   ]
  },
  {
   "cell_type": "markdown",
   "metadata": {},
   "source": [
    "# Training"
   ]
  },
  {
   "cell_type": "code",
   "execution_count": 3,
   "metadata": {},
   "outputs": [
    {
     "name": "stdout",
     "output_type": "stream",
     "text": [
      "seed: 0\n"
     ]
    },
    {
     "ename": "TypeError",
     "evalue": "__init__() takes 1 positional argument but 2 were given",
     "output_type": "error",
     "traceback": [
      "\u001b[0;31m---------------------------------------------------------------------------\u001b[0m",
      "\u001b[0;31mTypeError\u001b[0m                                 Traceback (most recent call last)",
      "\u001b[0;32m<ipython-input-3-dfdaf72fc72a>\u001b[0m in \u001b[0;36m<module>\u001b[0;34m\u001b[0m\n\u001b[1;32m      4\u001b[0m     \u001b[0mprint\u001b[0m\u001b[0;34m(\u001b[0m\u001b[0;34m\"seed:\"\u001b[0m\u001b[0;34m,\u001b[0m\u001b[0mseed\u001b[0m\u001b[0;34m)\u001b[0m\u001b[0;34m\u001b[0m\u001b[0;34m\u001b[0m\u001b[0m\n\u001b[1;32m      5\u001b[0m     \u001b[0mtorch\u001b[0m\u001b[0;34m.\u001b[0m\u001b[0mmanual_seed\u001b[0m\u001b[0;34m(\u001b[0m\u001b[0mseed\u001b[0m\u001b[0;34m)\u001b[0m\u001b[0;34m\u001b[0m\u001b[0;34m\u001b[0m\u001b[0m\n\u001b[0;32m----> 6\u001b[0;31m     \u001b[0mmodel\u001b[0m \u001b[0;34m=\u001b[0m \u001b[0mpNN\u001b[0m\u001b[0;34m.\u001b[0m\u001b[0mpNN\u001b[0m\u001b[0;34m(\u001b[0m\u001b[0mconfig\u001b[0m\u001b[0;34m.\u001b[0m\u001b[0mtopology\u001b[0m\u001b[0;34m)\u001b[0m\u001b[0;34m\u001b[0m\u001b[0;34m\u001b[0m\u001b[0m\n\u001b[0m\u001b[1;32m      7\u001b[0m \u001b[0;34m\u001b[0m\u001b[0m\n\u001b[1;32m      8\u001b[0m     optimizer = torch.optim.Adam([{'params':model.GetParam('theta'),'lr':1e-1},\n",
      "\u001b[0;31mTypeError\u001b[0m: __init__() takes 1 positional argument but 2 were given"
     ]
    }
   ],
   "source": [
    "test_acc = []\n",
    "\n",
    "for seed in range(10):\n",
    "    print(\"seed:\",seed)\n",
    "    torch.manual_seed(seed)\n",
    "    model = pNN.pNN(config.topology)\n",
    "\n",
    "    optimizer = torch.optim.Adam([{'params':model.GetParam('theta'),'lr':1e-1},\n",
    "                                  {'params':model.GetParam('eta'), 'lr':1e-2},\n",
    "                                  {'params':model.GetParam('inv'),'lr':1e-2}])\n",
    "\n",
    "    NN, train_loss_NN, valid_loss_NN, train_acc_NN, valid_acc_NN = training.training_pNN(model,\n",
    "                                                                                         train_loader,\n",
    "                                                                                         valid_loader,\n",
    "                                                                                         optimizer)\n",
    "    with torch.no_grad():\n",
    "        for x_test, y_test in test_loader:\n",
    "            prediction_test = model(x_test)              \n",
    "            yhat_test = torch.argmax(prediction_test.data, 1)\n",
    "            test_correct = torch.sum(yhat_test == y_test.data)\n",
    "            acc_test = test_correct / y_test.numel()\n",
    "            test_acc.append(acc_test)\n",
    "\n",
    "print(np.mean(test_acc))\n",
    "print(np.std(test_acc))"
   ]
  }
 ],
 "metadata": {
  "kernelspec": {
   "display_name": "Python 3",
   "language": "python",
   "name": "python3"
  },
  "language_info": {
   "codemirror_mode": {
    "name": "ipython",
    "version": 3
   },
   "file_extension": ".py",
   "mimetype": "text/x-python",
   "name": "python",
   "nbconvert_exporter": "python",
   "pygments_lexer": "ipython3",
   "version": "3.8.9"
  },
  "toc": {
   "base_numbering": 1,
   "nav_menu": {},
   "number_sections": true,
   "sideBar": true,
   "skip_h1_title": false,
   "title_cell": "Table of Contents",
   "title_sidebar": "Contents",
   "toc_cell": false,
   "toc_position": {},
   "toc_section_display": true,
   "toc_window_display": false
  }
 },
 "nbformat": 4,
 "nbformat_minor": 4
}
