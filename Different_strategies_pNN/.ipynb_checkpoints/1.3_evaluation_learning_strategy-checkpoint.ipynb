{
 "cells": [
  {
   "cell_type": "markdown",
   "metadata": {},
   "source": [
    "# Learning strategy\n",
    "* neuron level learnable circuity\n",
    "\n",
    "* layer level learnable circuity\n",
    "\n",
    "* net level learnable circuity\n",
    "\n",
    "# Training strategy\n",
    "* alternatively\n",
    "\n",
    "* simultanously"
   ]
  },
  {
   "cell_type": "code",
   "execution_count": 1,
   "metadata": {},
   "outputs": [],
   "source": [
    "# packages\n",
    "import sys\n",
    "import os\n",
    "import math\n",
    "import torch\n",
    "import random\n",
    "import pickle\n",
    "import calendar\n",
    "import numpy as np\n",
    "import config\n",
    "import training \n",
    "import matplotlib.pyplot as plt\n",
    "import evaluation as E\n",
    "from torch.utils.data import TensorDataset, DataLoader\n",
    "os.environ['KMP_DUPLICATE_LIB_OK']='True'\n",
    "torch.set_default_tensor_type(torch.FloatTensor)"
   ]
  },
  {
   "cell_type": "code",
   "execution_count": 2,
   "metadata": {},
   "outputs": [
    {
     "data": {
      "text/plain": [
       "['Dataset_iris.p',\n",
       " 'Dataset_tictactoe.p',\n",
       " 'Dataset_balancescale.p',\n",
       " 'Dataset_acuteinflammation.p',\n",
       " 'Dataset_vertebralcolumn2clases.p',\n",
       " 'Dataset_Pendigits.p',\n",
       " 'Dataset_breastcancerwisc.p',\n",
       " 'Dataset_seeds.p',\n",
       " 'Dataset_energyy2.p',\n",
       " 'Dataset_energyy1.p',\n",
       " 'Dataset_mammographic.p',\n",
       " 'Dataset_cardiotocography3clases.p',\n",
       " 'Dataset_vertebralcolumn3clases.p']"
      ]
     },
     "execution_count": 2,
     "metadata": {},
     "output_type": "execute_result"
    }
   ],
   "source": [
    "datasets = os.listdir('./dataset')\n",
    "datasets = [f for f in datasets if (f.startswith('Dataset') and f.endswith('.p'))]\n",
    "datasets.sort()\n",
    "datasets"
   ]
  },
  {
   "cell_type": "code",
   "execution_count": 3,
   "metadata": {},
   "outputs": [],
   "source": [
    "training_strategys = [0, 1]\n",
    "learning_strategys = [0, 1, 2]\n",
    "lr_theta = 0.1\n",
    "lr_lncs = [0.0005, 0.001, 0.005, 0.01, 0.05, 0.1]"
   ]
  },
  {
   "cell_type": "code",
   "execution_count": 4,
   "metadata": {},
   "outputs": [
    {
     "data": {
      "text/plain": [
       "torch.Size([13, 10, 2, 3, 1, 6])"
      ]
     },
     "execution_count": 4,
     "metadata": {},
     "output_type": "execute_result"
    }
   ],
   "source": [
    "results = torch.zeros([13, 10, len(training_strategys), len(learning_strategys), 1, len(lr_lncs)])\n",
    "results.shape"
   ]
  },
  {
   "cell_type": "code",
   "execution_count": 5,
   "metadata": {},
   "outputs": [],
   "source": [
    "for t, training_strategy in enumerate(training_strategys):\n",
    "    for i,learning_strategy in enumerate(learning_strategys):\n",
    "        for j,lr_lnc in enumerate(lr_lncs):\n",
    "            if learning_strategy == 0:\n",
    "                import pNN_NeuronLevel_LNC as pNN\n",
    "            elif learning_strategy == 1:\n",
    "                import pNN_LayerLevel_LNC as pNN\n",
    "            elif learning_strategy == 2:\n",
    "                import pNN_NetLevel_LNC as pNN\n",
    "\n",
    "            for d, dataset in enumerate(datasets):\n",
    "                datapath = os.path.join(f'./dataset/{dataset}')\n",
    "                with open(datapath, 'rb') as f:\n",
    "                    data = pickle.load(f)\n",
    "                X_train    = data['X_train']\n",
    "                y_train    = data['y_train']\n",
    "                X_valid    = data['X_valid']\n",
    "                y_valid    = data['y_valid']\n",
    "                X_test     = data['X_test']\n",
    "                y_test     = data['y_test']\n",
    "                data_name  = data['name']\n",
    "\n",
    "                N_class    = data['n_class']\n",
    "                N_feature  = data['n_feature']\n",
    "                N_train    = X_train.shape[0]\n",
    "                N_valid    = X_valid.shape[0]\n",
    "                N_test     = X_test.shape[0]\n",
    "\n",
    "                # generate tensordataset\n",
    "                trainset = TensorDataset(X_train, y_train)\n",
    "                validset = TensorDataset(X_valid, y_valid)\n",
    "                testset  = TensorDataset(X_test, y_test)\n",
    "\n",
    "                # batch\n",
    "                train_loader = DataLoader(trainset, batch_size=N_train)\n",
    "                valid_loader = DataLoader(validset, batch_size=N_valid)\n",
    "                test_loader  = DataLoader(testset,  batch_size=N_test)\n",
    "\n",
    "                for seed in range(10):\n",
    "                    setup = f'dataset:{data_name}_learning_strategy:{learning_strategy}_training_strategy:{training_strategy}_lr_theta:{lr_theta}_lr_lnc:{lr_lnc}_seed:{seed}'\n",
    "\n",
    "                    model = torch.load(f'./results_different_strategy/pNN_{setup}')\n",
    "                    accuracy = E.BASIC(model, X_test, y_test)\n",
    "                    results[d,seed,t,i,0,j] = accuracy"
   ]
  },
  {
   "cell_type": "code",
   "execution_count": 6,
   "metadata": {},
   "outputs": [
    {
     "data": {
      "text/plain": [
       "torch.Size([13, 10, 2, 3, 1, 6])"
      ]
     },
     "execution_count": 6,
     "metadata": {},
     "output_type": "execute_result"
    }
   ],
   "source": [
    "results.shape"
   ]
  },
  {
   "cell_type": "code",
   "execution_count": 7,
   "metadata": {},
   "outputs": [
    {
     "data": {
      "text/plain": [
       "torch.Size([13, 10, 2, 3, 6])"
      ]
     },
     "execution_count": 7,
     "metadata": {},
     "output_type": "execute_result"
    }
   ],
   "source": [
    "results = torch.mean(results, dim=4)\n",
    "results.shape"
   ]
  },
  {
   "cell_type": "code",
   "execution_count": 8,
   "metadata": {},
   "outputs": [
    {
     "data": {
      "text/plain": [
       "torch.Size([10, 2, 3, 6])"
      ]
     },
     "execution_count": 8,
     "metadata": {},
     "output_type": "execute_result"
    }
   ],
   "source": [
    "r1 = torch.mean(results, dim=0)\n",
    "r1.shape"
   ]
  },
  {
   "cell_type": "markdown",
   "metadata": {},
   "source": [
    "# simultanous vs. alternative"
   ]
  },
  {
   "cell_type": "code",
   "execution_count": 9,
   "metadata": {},
   "outputs": [
    {
     "data": {
      "text/plain": [
       "tensor(0.7462)"
      ]
     },
     "execution_count": 9,
     "metadata": {},
     "output_type": "execute_result"
    }
   ],
   "source": [
    "a = torch.mean(r1, dim=0)[0]\n",
    "a.mean()"
   ]
  },
  {
   "cell_type": "code",
   "execution_count": 10,
   "metadata": {},
   "outputs": [
    {
     "data": {
      "text/plain": [
       "tensor(0.7269)"
      ]
     },
     "execution_count": 10,
     "metadata": {},
     "output_type": "execute_result"
    }
   ],
   "source": [
    "b = torch.mean(r1, dim=0)[1]\n",
    "b.mean()"
   ]
  },
  {
   "cell_type": "markdown",
   "metadata": {},
   "source": [
    "# neuron, layer, net"
   ]
  },
  {
   "cell_type": "code",
   "execution_count": 11,
   "metadata": {},
   "outputs": [
    {
     "data": {
      "text/plain": [
       "tensor([[0.7215],\n",
       "        [0.7376],\n",
       "        [0.7794]])"
      ]
     },
     "execution_count": 11,
     "metadata": {},
     "output_type": "execute_result"
    }
   ],
   "source": [
    "a.mean(1, keepdim=True)"
   ]
  },
  {
   "cell_type": "markdown",
   "metadata": {},
   "source": [
    "# Best strategy\n",
    "\n",
    "* Netlevel\n",
    "* $\\alpha_\\theta=0.1$\n",
    "* $\\alpha_{\\rm lnc}$ is not important, as it is not the final learnable parameter"
   ]
  },
  {
   "cell_type": "code",
   "execution_count": null,
   "metadata": {},
   "outputs": [],
   "source": []
  }
 ],
 "metadata": {
  "kernelspec": {
   "display_name": "SDIL",
   "language": "python",
   "name": "sdil"
  },
  "language_info": {
   "codemirror_mode": {
    "name": "ipython",
    "version": 3
   },
   "file_extension": ".py",
   "mimetype": "text/x-python",
   "name": "python",
   "nbconvert_exporter": "python",
   "pygments_lexer": "ipython3",
   "version": "3.8.13"
  },
  "toc": {
   "base_numbering": 1,
   "nav_menu": {},
   "number_sections": true,
   "sideBar": true,
   "skip_h1_title": false,
   "title_cell": "Table of Contents",
   "title_sidebar": "Contents",
   "toc_cell": false,
   "toc_position": {},
   "toc_section_display": true,
   "toc_window_display": false
  }
 },
 "nbformat": 4,
 "nbformat_minor": 4
}
