{
 "cells": [
  {
   "cell_type": "code",
   "execution_count": 1,
   "metadata": {},
   "outputs": [],
   "source": [
    "# packages\n",
    "import os\n",
    "import math\n",
    "import torch\n",
    "import random\n",
    "import pickle\n",
    "import pandas\n",
    "import calendar\n",
    "import numpy as np\n",
    "import matplotlib.pyplot as plt\n",
    "from torch.utils.data import TensorDataset, DataLoader\n",
    "os.environ['KMP_DUPLICATE_LIB_OK']='True'\n",
    "torch.set_default_tensor_type(torch.FloatTensor)"
   ]
  },
  {
   "cell_type": "code",
   "execution_count": 2,
   "metadata": {},
   "outputs": [],
   "source": [
    "x = pandas.read_csv(\"inv_RTwithRatio.csv\")\n"
   ]
  },
  {
   "cell_type": "code",
   "execution_count": 4,
   "metadata": {},
   "outputs": [
    {
     "data": {
      "text/plain": [
       "torch.Size([9999, 10])"
      ]
     },
     "execution_count": 4,
     "metadata": {},
     "output_type": "execute_result"
    }
   ],
   "source": [
    "X1 = []\n",
    "for i in range(9999):\n",
    "    \n",
    "    f1 = x.iloc[i, :10]\n",
    "    F = [float(f) for f in f1.to_numpy()]\n",
    "    X1.append(F)\n",
    "X= torch.tensor(X1)\n",
    "X.shape"
   ]
  },
  {
   "cell_type": "code",
   "execution_count": 5,
   "metadata": {},
   "outputs": [
    {
     "data": {
      "text/html": [
       "<div>\n",
       "<style scoped>\n",
       "    .dataframe tbody tr th:only-of-type {\n",
       "        vertical-align: middle;\n",
       "    }\n",
       "\n",
       "    .dataframe tbody tr th {\n",
       "        vertical-align: top;\n",
       "    }\n",
       "\n",
       "    .dataframe thead th {\n",
       "        text-align: right;\n",
       "    }\n",
       "</style>\n",
       "<table border=\"1\" class=\"dataframe\">\n",
       "  <thead>\n",
       "    <tr style=\"text-align: right;\">\n",
       "      <th></th>\n",
       "      <th>0.000000</th>\n",
       "      <th>1.000000</th>\n",
       "      <th>2.000000</th>\n",
       "      <th>3.000000</th>\n",
       "      <th>4.000000</th>\n",
       "      <th>5.000000</th>\n",
       "      <th>6.000000</th>\n",
       "      <th>7.000000</th>\n",
       "    </tr>\n",
       "  </thead>\n",
       "  <tbody>\n",
       "    <tr>\n",
       "      <th>0</th>\n",
       "      <td>10.0</td>\n",
       "      <td>5.0</td>\n",
       "      <td>10000.0</td>\n",
       "      <td>8000.0</td>\n",
       "      <td>10000.0</td>\n",
       "      <td>0.000200</td>\n",
       "      <td>0.000010</td>\n",
       "      <td>0.625000</td>\n",
       "    </tr>\n",
       "    <tr>\n",
       "      <th>1</th>\n",
       "      <td>255.0</td>\n",
       "      <td>128.0</td>\n",
       "      <td>255000.0</td>\n",
       "      <td>204000.0</td>\n",
       "      <td>255000.0</td>\n",
       "      <td>0.000500</td>\n",
       "      <td>0.000040</td>\n",
       "      <td>0.627451</td>\n",
       "    </tr>\n",
       "    <tr>\n",
       "      <th>2</th>\n",
       "      <td>378.0</td>\n",
       "      <td>66.0</td>\n",
       "      <td>132000.0</td>\n",
       "      <td>106000.0</td>\n",
       "      <td>378000.0</td>\n",
       "      <td>0.000650</td>\n",
       "      <td>0.000025</td>\n",
       "      <td>0.217430</td>\n",
       "    </tr>\n",
       "    <tr>\n",
       "      <th>3</th>\n",
       "      <td>316.0</td>\n",
       "      <td>36.0</td>\n",
       "      <td>439000.0</td>\n",
       "      <td>253000.0</td>\n",
       "      <td>316000.0</td>\n",
       "      <td>0.000725</td>\n",
       "      <td>0.000018</td>\n",
       "      <td>0.197678</td>\n",
       "    </tr>\n",
       "    <tr>\n",
       "      <th>4</th>\n",
       "      <td>469.0</td>\n",
       "      <td>20.0</td>\n",
       "      <td>347000.0</td>\n",
       "      <td>82000.0</td>\n",
       "      <td>163000.0</td>\n",
       "      <td>0.000538</td>\n",
       "      <td>0.000021</td>\n",
       "      <td>0.180457</td>\n",
       "    </tr>\n",
       "    <tr>\n",
       "      <th>...</th>\n",
       "      <td>...</td>\n",
       "      <td>...</td>\n",
       "      <td>...</td>\n",
       "      <td>...</td>\n",
       "      <td>...</td>\n",
       "      <td>...</td>\n",
       "      <td>...</td>\n",
       "      <td>...</td>\n",
       "    </tr>\n",
       "    <tr>\n",
       "      <th>9994</th>\n",
       "      <td>267.0</td>\n",
       "      <td>70.0</td>\n",
       "      <td>483000.0</td>\n",
       "      <td>378000.0</td>\n",
       "      <td>55000.0</td>\n",
       "      <td>0.000714</td>\n",
       "      <td>0.000019</td>\n",
       "      <td>0.334998</td>\n",
       "    </tr>\n",
       "    <tr>\n",
       "      <th>9995</th>\n",
       "      <td>385.0</td>\n",
       "      <td>45.0</td>\n",
       "      <td>364000.0</td>\n",
       "      <td>234000.0</td>\n",
       "      <td>97000.0</td>\n",
       "      <td>0.000681</td>\n",
       "      <td>0.000061</td>\n",
       "      <td>0.181818</td>\n",
       "    </tr>\n",
       "    <tr>\n",
       "      <th>9996</th>\n",
       "      <td>202.0</td>\n",
       "      <td>14.0</td>\n",
       "      <td>181000.0</td>\n",
       "      <td>87000.0</td>\n",
       "      <td>281000.0</td>\n",
       "      <td>0.000306</td>\n",
       "      <td>0.000069</td>\n",
       "      <td>0.144190</td>\n",
       "    </tr>\n",
       "    <tr>\n",
       "      <th>9997</th>\n",
       "      <td>447.0</td>\n",
       "      <td>137.0</td>\n",
       "      <td>426000.0</td>\n",
       "      <td>283000.0</td>\n",
       "      <td>36000.0</td>\n",
       "      <td>0.000606</td>\n",
       "      <td>0.000039</td>\n",
       "      <td>0.461356</td>\n",
       "    </tr>\n",
       "    <tr>\n",
       "      <th>9998</th>\n",
       "      <td>243.0</td>\n",
       "      <td>54.0</td>\n",
       "      <td>265000.0</td>\n",
       "      <td>110000.0</td>\n",
       "      <td>99000.0</td>\n",
       "      <td>0.000797</td>\n",
       "      <td>0.000027</td>\n",
       "      <td>0.535354</td>\n",
       "    </tr>\n",
       "  </tbody>\n",
       "</table>\n",
       "<p>9999 rows × 8 columns</p>\n",
       "</div>"
      ],
      "text/plain": [
       "      0.000000  1.000000  2.000000  3.000000  4.000000  5.000000  6.000000  \\\n",
       "0         10.0       5.0   10000.0    8000.0   10000.0  0.000200  0.000010   \n",
       "1        255.0     128.0  255000.0  204000.0  255000.0  0.000500  0.000040   \n",
       "2        378.0      66.0  132000.0  106000.0  378000.0  0.000650  0.000025   \n",
       "3        316.0      36.0  439000.0  253000.0  316000.0  0.000725  0.000018   \n",
       "4        469.0      20.0  347000.0   82000.0  163000.0  0.000538  0.000021   \n",
       "...        ...       ...       ...       ...       ...       ...       ...   \n",
       "9994     267.0      70.0  483000.0  378000.0   55000.0  0.000714  0.000019   \n",
       "9995     385.0      45.0  364000.0  234000.0   97000.0  0.000681  0.000061   \n",
       "9996     202.0      14.0  181000.0   87000.0  281000.0  0.000306  0.000069   \n",
       "9997     447.0     137.0  426000.0  283000.0   36000.0  0.000606  0.000039   \n",
       "9998     243.0      54.0  265000.0  110000.0   99000.0  0.000797  0.000027   \n",
       "\n",
       "      7.000000  \n",
       "0     0.625000  \n",
       "1     0.627451  \n",
       "2     0.217430  \n",
       "3     0.197678  \n",
       "4     0.180457  \n",
       "...        ...  \n",
       "9994  0.334998  \n",
       "9995  0.181818  \n",
       "9996  0.144190  \n",
       "9997  0.461356  \n",
       "9998  0.535354  \n",
       "\n",
       "[9999 rows x 8 columns]"
      ]
     },
     "execution_count": 5,
     "metadata": {},
     "output_type": "execute_result"
    }
   ],
   "source": [
    "x"
   ]
  },
  {
   "cell_type": "code",
   "execution_count": 5,
   "metadata": {},
   "outputs": [
    {
     "data": {
      "text/plain": [
       "(9999, 4)"
      ]
     },
     "execution_count": 5,
     "metadata": {},
     "output_type": "execute_result"
    }
   ],
   "source": [
    "y = pandas.read_csv(\"inv_eta.csv\")\n",
    "y.shape"
   ]
  },
  {
   "cell_type": "code",
   "execution_count": 6,
   "metadata": {},
   "outputs": [
    {
     "data": {
      "text/plain": [
       "torch.Size([9999, 4])"
      ]
     },
     "execution_count": 6,
     "metadata": {},
     "output_type": "execute_result"
    }
   ],
   "source": [
    "Y1 = []\n",
    "for i in range(9999):\n",
    "    \n",
    "    f1 = y.iloc[i, :]\n",
    "    F = [float(f) for f in f1.to_numpy()]\n",
    "    Y1.append(F)\n",
    "Y= torch.tensor(Y1)\n",
    "Y.shape"
   ]
  },
  {
   "cell_type": "code",
   "execution_count": 7,
   "metadata": {},
   "outputs": [
    {
     "data": {
      "text/html": [
       "<div>\n",
       "<style scoped>\n",
       "    .dataframe tbody tr th:only-of-type {\n",
       "        vertical-align: middle;\n",
       "    }\n",
       "\n",
       "    .dataframe tbody tr th {\n",
       "        vertical-align: top;\n",
       "    }\n",
       "\n",
       "    .dataframe thead th {\n",
       "        text-align: right;\n",
       "    }\n",
       "</style>\n",
       "<table border=\"1\" class=\"dataframe\">\n",
       "  <thead>\n",
       "    <tr style=\"text-align: right;\">\n",
       "      <th></th>\n",
       "      <th>0.000000</th>\n",
       "      <th>1.000000</th>\n",
       "      <th>2.000000</th>\n",
       "      <th>3.000000</th>\n",
       "    </tr>\n",
       "  </thead>\n",
       "  <tbody>\n",
       "    <tr>\n",
       "      <th>0</th>\n",
       "      <td>-0.070135</td>\n",
       "      <td>0.934719</td>\n",
       "      <td>0.493030</td>\n",
       "      <td>3.763253</td>\n",
       "    </tr>\n",
       "    <tr>\n",
       "      <th>1</th>\n",
       "      <td>0.056228</td>\n",
       "      <td>1.055606</td>\n",
       "      <td>0.115804</td>\n",
       "      <td>16.105862</td>\n",
       "    </tr>\n",
       "    <tr>\n",
       "      <th>2</th>\n",
       "      <td>0.360907</td>\n",
       "      <td>1.355533</td>\n",
       "      <td>-0.998614</td>\n",
       "      <td>28.766135</td>\n",
       "    </tr>\n",
       "    <tr>\n",
       "      <th>3</th>\n",
       "      <td>0.437950</td>\n",
       "      <td>1.428613</td>\n",
       "      <td>-1.390220</td>\n",
       "      <td>37.443204</td>\n",
       "    </tr>\n",
       "    <tr>\n",
       "      <th>4</th>\n",
       "      <td>0.523743</td>\n",
       "      <td>1.527622</td>\n",
       "      <td>-1.765940</td>\n",
       "      <td>22.207510</td>\n",
       "    </tr>\n",
       "    <tr>\n",
       "      <th>...</th>\n",
       "      <td>...</td>\n",
       "      <td>...</td>\n",
       "      <td>...</td>\n",
       "      <td>...</td>\n",
       "    </tr>\n",
       "    <tr>\n",
       "      <th>9994</th>\n",
       "      <td>0.250936</td>\n",
       "      <td>1.251082</td>\n",
       "      <td>-0.576940</td>\n",
       "      <td>11.408163</td>\n",
       "    </tr>\n",
       "    <tr>\n",
       "      <th>9995</th>\n",
       "      <td>0.402152</td>\n",
       "      <td>1.397373</td>\n",
       "      <td>-1.169310</td>\n",
       "      <td>9.215962</td>\n",
       "    </tr>\n",
       "    <tr>\n",
       "      <th>9996</th>\n",
       "      <td>0.470750</td>\n",
       "      <td>1.464311</td>\n",
       "      <td>-1.470249</td>\n",
       "      <td>10.628043</td>\n",
       "    </tr>\n",
       "    <tr>\n",
       "      <th>9997</th>\n",
       "      <td>0.166992</td>\n",
       "      <td>1.165653</td>\n",
       "      <td>-0.395860</td>\n",
       "      <td>7.151212</td>\n",
       "    </tr>\n",
       "    <tr>\n",
       "      <th>9998</th>\n",
       "      <td>0.297415</td>\n",
       "      <td>1.297590</td>\n",
       "      <td>-1.051905</td>\n",
       "      <td>17.182883</td>\n",
       "    </tr>\n",
       "  </tbody>\n",
       "</table>\n",
       "<p>9999 rows × 4 columns</p>\n",
       "</div>"
      ],
      "text/plain": [
       "      0.000000  1.000000  2.000000   3.000000\n",
       "0    -0.070135  0.934719  0.493030   3.763253\n",
       "1     0.056228  1.055606  0.115804  16.105862\n",
       "2     0.360907  1.355533 -0.998614  28.766135\n",
       "3     0.437950  1.428613 -1.390220  37.443204\n",
       "4     0.523743  1.527622 -1.765940  22.207510\n",
       "...        ...       ...       ...        ...\n",
       "9994  0.250936  1.251082 -0.576940  11.408163\n",
       "9995  0.402152  1.397373 -1.169310   9.215962\n",
       "9996  0.470750  1.464311 -1.470249  10.628043\n",
       "9997  0.166992  1.165653 -0.395860   7.151212\n",
       "9998  0.297415  1.297590 -1.051905  17.182883\n",
       "\n",
       "[9999 rows x 4 columns]"
      ]
     },
     "execution_count": 7,
     "metadata": {},
     "output_type": "execute_result"
    }
   ],
   "source": [
    "y"
   ]
  },
  {
   "cell_type": "code",
   "execution_count": 7,
   "metadata": {},
   "outputs": [
    {
     "data": {
      "text/plain": [
       "torch.Size([9999, 4])"
      ]
     },
     "execution_count": 7,
     "metadata": {},
     "output_type": "execute_result"
    }
   ],
   "source": [
    "\n",
    "a = {'X': X, 'Y': Y}\n",
    "with open('invWithoutR1234_dataset.txt', 'wb') as file:\n",
    "    pickle.dump(a, file)\n",
    "with open('invWithoutR1234_dataset.txt', 'rb') as file2:\n",
    "    b = pickle.load(file2)\n",
    "YY = b['Y']\n",
    "YY.shape"
   ]
  },
  {
   "cell_type": "code",
   "execution_count": 8,
   "metadata": {},
   "outputs": [
    {
     "data": {
      "text/plain": [
       "torch.Size([9999, 10])"
      ]
     },
     "execution_count": 8,
     "metadata": {},
     "output_type": "execute_result"
    }
   ],
   "source": [
    "XX = b['X']\n",
    "XX.shape"
   ]
  },
  {
   "cell_type": "code",
   "execution_count": null,
   "metadata": {},
   "outputs": [],
   "source": []
  }
 ],
 "metadata": {
  "kernelspec": {
   "display_name": "Python 3 (ipykernel)",
   "language": "python",
   "name": "python3"
  },
  "language_info": {
   "codemirror_mode": {
    "name": "ipython",
    "version": 3
   },
   "file_extension": ".py",
   "mimetype": "text/x-python",
   "name": "python",
   "nbconvert_exporter": "python",
   "pygments_lexer": "ipython3",
   "version": "3.9.12"
  },
  "toc": {
   "base_numbering": 1,
   "nav_menu": {},
   "number_sections": true,
   "sideBar": true,
   "skip_h1_title": false,
   "title_cell": "Table of Contents",
   "title_sidebar": "Contents",
   "toc_cell": false,
   "toc_position": {},
   "toc_section_display": true,
   "toc_window_display": false
  }
 },
 "nbformat": 4,
 "nbformat_minor": 4
}
