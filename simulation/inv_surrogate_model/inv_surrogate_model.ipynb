{
 "cells": [
  {
   "cell_type": "code",
   "execution_count": 1,
   "metadata": {},
   "outputs": [],
   "source": [
    "# packages\n",
    "import os\n",
    "import time\n",
    "import math\n",
    "import torch\n",
    "import random\n",
    "import pickle\n",
    "import pandas\n",
    "import calendar\n",
    "import training\n",
    "import config\n",
    "import numpy as np\n",
    "import matplotlib.pyplot as plt\n",
    "from torch.utils.data import TensorDataset, DataLoader\n",
    "os.environ['KMP_DUPLICATE_LIB_OK']='True'\n",
    "torch.set_default_tensor_type(torch.FloatTensor)"
   ]
  },
  {
   "cell_type": "code",
   "execution_count": null,
   "metadata": {},
   "outputs": [],
   "source": [
    "seed = int(sys.argv[1])\n",
    "\n",
    "for lr in range(0,-7,-1):\n",
    "    for num_layer in range(2,16):\n",
    "        \n",
    "        exp_setup = f'{num_layer}_{lr}_{seed}'\n",
    "        print(f'The experiment setup is {exp_setup}.')\n",
    "        \n",
    "        if os.path.exists(f'./NNs/INV_{exp_setup}'):\n",
    "            pass\n",
    "        else:\n",
    "            \n",
    "            with open('./data/inv_dataset.p', 'rb') as file:\n",
    "                a = pickle.load(file)\n",
    "\n",
    "            X, Y = a['X'], a['Y']\n",
    "            Xn, Yn = a['Xn'], a['Yn']\n",
    "            X_min, X_max = a['X_min'], a['X_max']\n",
    "            Y_min, Y_max = a['Y_min'], a['Y_max']\n",
    "\n",
    "            X_learn, Y_learn = a['X_learn'], a['Y_learn']\n",
    "            X_train, Y_train = a['X_train'], a['Y_train']\n",
    "            X_valid, Y_valid = a['X_valid'], a['Y_valid']\n",
    "            X_test , Y_test  = a['X_test'] , a['Y_test']\n",
    "\n",
    "            Xn_learn, Yn_learn = a['Xn_learn'], a['Yn_learn']\n",
    "            Xn_train, Yn_train = a['Xn_train'], a['Yn_train']\n",
    "            Xn_valid, Yn_valid = a['Xn_valid'], a['Yn_valid']\n",
    "            Xn_test , Yn_test  = a['Xn_test'] , a['Yn_test']\n",
    "\n",
    "\n",
    "            train_data = TensorDataset(Xn_train, Yn_train)\n",
    "            valid_data = TensorDataset(Xn_valid, Yn_valid)\n",
    "            test_data  = TensorDataset(Xn_test, Yn_test)\n",
    "\n",
    "            train_loader = DataLoader(train_data, batch_size=len(train_data))\n",
    "            valid_loader = DataLoader(valid_data, batch_size=len(valid_data))\n",
    "            test_loader  = DataLoader(test_data, batch_size=len(test_data))\n",
    "\n",
    "            topology = (np.round(np.logspace(np.log(X.shape[1]),\n",
    "                                             np.log(Y.shape[1]),\n",
    "                                             num=num_layer, base=np.e))).astype(int)\n",
    "\n",
    "            config.SetSeed(seed)\n",
    "            model = torch.nn.Sequential()\n",
    "            for t in range(len(topology)-1):\n",
    "                model.add_module(f'{t}-MAC', torch.nn.Linear(topology[t], topology[t+1]))\n",
    "                model.add_module(f'{t}-ACT', torch.nn.PReLU())\n",
    "\n",
    "            lossfunction = torch.nn.MSELoss()\n",
    "            optimizer = torch.optim.Adam(model.parameters(), lr=10**lr)\n",
    "\n",
    "            model, train_loss, valid_loss = training.train_nn(model, train_loader, valid_loader, lossfunction, optimizer, UUID=exp_setup)\n",
    "            torch.save(model, f'./NNs/INV_{exp_setup}')\n",
    "            \n",
    "            plt.figure()\n",
    "            plt.plot(train_loss, label='train')\n",
    "            plt.plot(valid_loss, label='valid')\n",
    "            plt.savefig(f'./NNs/train_curve_{exp_setup}.pdf', format='pdf', bbox_inches='tight')\n"
   ]
  },
  {
   "cell_type": "markdown",
   "metadata": {},
   "source": [
    "# True result and prediction value"
   ]
  },
  {
   "cell_type": "code",
   "execution_count": 9,
   "metadata": {},
   "outputs": [
    {
     "data": {
      "image/png": "[encoded data removed]",
      "text/plain": [
       "<Figure size 432x288 with 1 Axes>"
      ]
     },
     "metadata": {
      "needs_background": "light"
     },
     "output_type": "display_data"
    }
   ],
   "source": [
    "x1=np.linspace(-2,2,4001)\n",
    "a = prediction_test[0].numpy()\n",
    "b = y_test[0].numpy()\n",
    "y1 =  -(a[0] +a[1] * np.tanh((x1- a[2])* a[3]))\n",
    "y2 =  -(b[0] + b[1]*np.tanh((x1 - b[2])* b[3]))\n",
    "plt.plot(x1, y1,color='green')\n",
    "plt.plot(x1, y2,color='red')\n",
    "plt.show()"
   ]
  },
  {
   "cell_type": "code",
   "execution_count": null,
   "metadata": {},
   "outputs": [],
   "source": []
  }
 ],
 "metadata": {
  "kernelspec": {
   "display_name": "Python 3 (ipykernel)",
   "language": "python",
   "name": "python3"
  },
  "language_info": {
   "codemirror_mode": {
    "name": "ipython",
    "version": 3
   },
   "file_extension": ".py",
   "mimetype": "text/x-python",
   "name": "python",
   "nbconvert_exporter": "python",
   "pygments_lexer": "ipython3",
   "version": "3.9.12"
  },
  "toc": {
   "base_numbering": 1,
   "nav_menu": {},
   "number_sections": true,
   "sideBar": true,
   "skip_h1_title": false,
   "title_cell": "Table of Contents",
   "title_sidebar": "Contents",
   "toc_cell": false,
   "toc_position": {},
   "toc_section_display": true,
   "toc_window_display": false
  }
 },
 "nbformat": 4,
 "nbformat_minor": 4
}
