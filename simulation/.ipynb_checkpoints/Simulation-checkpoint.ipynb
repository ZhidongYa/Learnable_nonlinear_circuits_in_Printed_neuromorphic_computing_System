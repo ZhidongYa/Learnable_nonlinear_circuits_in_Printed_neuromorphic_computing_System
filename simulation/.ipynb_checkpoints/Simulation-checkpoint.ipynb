{
 "cells": [
  {
   "cell_type": "code",
   "execution_count": 1,
   "id": "19bd8494",
   "metadata": {},
   "outputs": [],
   "source": [
    "import numpy as np"
   ]
  },
  {
   "cell_type": "markdown",
   "id": "39731dc1",
   "metadata": {},
   "source": [
    "# Sampling for ACT simulation\n",
    "\n",
    "$R_1$ in range $[10,500]\\ {\\rm k \\Omega}$\n",
    "\n",
    "$R_2$ in range $[10,500]\\ {\\rm k \\Omega}$\n",
    "\n",
    "$T_{1,1}$ in range $[10,500]\\ {\\rm \\mu m}$\n",
    "\n",
    "$T_{1,2}$ in range $[10,500]\\ {\\rm \\mu m}$\n",
    "\n",
    "$T_{2,1}$ in range $[10,500]\\ {\\rm \\mu m}$\n",
    "\n",
    "$T_{2,2}$ in range $[10,500]\\ {\\rm \\mu m}$"
   ]
  },
  {
   "cell_type": "code",
   "execution_count": 2,
   "id": "aee129d1",
   "metadata": {},
   "outputs": [],
   "source": [
    "N_ACT = 10"
   ]
  },
  {
   "cell_type": "code",
   "execution_count": 3,
   "id": "532a7801",
   "metadata": {},
   "outputs": [],
   "source": [
    "ACT_sampling_ed = []\n",
    "for r1 in np.linspace(10,500,N_ACT):\n",
    "    for r2 in np.linspace(10,500,N_ACT):\n",
    "        for t11 in np.linspace(10,500,N_ACT):\n",
    "            for t12 in np.linspace(10,500,N_ACT):\n",
    "                for t21 in np.linspace(10,500,N_ACT):\n",
    "                    for t22 in np.linspace(10,500,N_ACT):\n",
    "                        ACT_sampling_ed.append([r1, r2, t11, t12, t21, t22])"
   ]
  },
  {
   "cell_type": "code",
   "execution_count": 4,
   "id": "40d43c5f",
   "metadata": {},
   "outputs": [
    {
     "data": {
      "text/plain": [
       "array([[ 10.,  10.,  10.,  10.,  10.,  10.],\n",
       "       [ 10.,  10.,  10.,  10.,  10.,  64.],\n",
       "       [ 10.,  10.,  10.,  10.,  10., 119.],\n",
       "       [ 10.,  10.,  10.,  10.,  10., 173.],\n",
       "       [ 10.,  10.,  10.,  10.,  10., 228.],\n",
       "       [ 10.,  10.,  10.,  10.,  10., 282.],\n",
       "       [ 10.,  10.,  10.,  10.,  10., 337.],\n",
       "       [ 10.,  10.,  10.,  10.,  10., 391.],\n",
       "       [ 10.,  10.,  10.,  10.,  10., 446.],\n",
       "       [ 10.,  10.,  10.,  10.,  10., 500.],\n",
       "       [ 10.,  10.,  10.,  10.,  64.,  10.],\n",
       "       [ 10.,  10.,  10.,  10.,  64.,  64.],\n",
       "       [ 10.,  10.,  10.,  10.,  64., 119.],\n",
       "       [ 10.,  10.,  10.,  10.,  64., 173.],\n",
       "       [ 10.,  10.,  10.,  10.,  64., 228.],\n",
       "       [ 10.,  10.,  10.,  10.,  64., 282.],\n",
       "       [ 10.,  10.,  10.,  10.,  64., 337.],\n",
       "       [ 10.,  10.,  10.,  10.,  64., 391.],\n",
       "       [ 10.,  10.,  10.,  10.,  64., 446.],\n",
       "       [ 10.,  10.,  10.,  10.,  64., 500.]])"
      ]
     },
     "execution_count": 4,
     "metadata": {},
     "output_type": "execute_result"
    }
   ],
   "source": [
    "ACT_sampling_ed = np.round(np.array(ACT_sampling_ed))\n",
    "ACT_sampling_ed[:20,:]"
   ]
  },
  {
   "cell_type": "code",
   "execution_count": 5,
   "id": "1875075b",
   "metadata": {},
   "outputs": [
    {
     "data": {
      "text/plain": [
       "(1000000, 6)"
      ]
     },
     "execution_count": 5,
     "metadata": {},
     "output_type": "execute_result"
    }
   ],
   "source": [
    "ACT_sampling_ed.shape"
   ]
  },
  {
   "cell_type": "code",
   "execution_count": 7,
   "id": "967a0ceb",
   "metadata": {},
   "outputs": [
    {
     "data": {
      "text/plain": [
       "array([[469., 325., 108., 266., 431., 348.],\n",
       "       [426.,  17.,  98., 149., 124.,  15.],\n",
       "       [146., 326., 385., 309., 144., 473.],\n",
       "       [384., 123., 293.,  51.,  75., 266.],\n",
       "       [ 16., 291., 200., 445., 327., 137.],\n",
       "       [463., 307., 324., 317.,  11., 103.],\n",
       "       [ 42., 169., 406.,  18., 211., 406.],\n",
       "       [494., 197., 394., 471., 465., 419.],\n",
       "       [399., 260., 398., 468., 194., 303.],\n",
       "       [148., 475., 284., 492., 244., 400.],\n",
       "       [310., 463.,  66., 291., 113., 380.],\n",
       "       [140., 471., 268.,  62., 360., 398.],\n",
       "       [253., 340., 220., 345., 154., 259.],\n",
       "       [114., 227.,  45., 101., 292., 238.],\n",
       "       [240., 478., 279., 196., 452., 442.],\n",
       "       [133., 346., 172., 210., 450., 401.],\n",
       "       [435., 455., 303., 201., 314., 302.],\n",
       "       [454., 452., 496., 204., 383., 468.],\n",
       "       [348.,  55., 395., 369., 353., 497.],\n",
       "       [315., 437.,  97.,  34., 430., 435.]])"
      ]
     },
     "execution_count": 7,
     "metadata": {},
     "output_type": "execute_result"
    }
   ],
   "source": [
    "ACT_sampling_mc = np.random.rand(N_ACT**6,6)\n",
    "ACT_sampling_mc = ACT_sampling_mc*490 + 10\n",
    "ACT_sampling_mc = np.round(ACT_sampling_mc)\n",
    "ACT_sampling_mc[:20,:]"
   ]
  },
  {
   "cell_type": "code",
   "execution_count": 8,
   "id": "b2b801cb",
   "metadata": {},
   "outputs": [
    {
     "data": {
      "text/plain": [
       "(1000000, 6)"
      ]
     },
     "execution_count": 8,
     "metadata": {},
     "output_type": "execute_result"
    }
   ],
   "source": [
    "ACT_sampling_mc.shape"
   ]
  },
  {
   "cell_type": "markdown",
   "id": "9f53202f",
   "metadata": {},
   "source": [
    "# Sampling for INV\n",
    "\n",
    "$R_1$ in range $[10,500]\\ {\\rm \\Omega}$\n",
    "\n",
    "$R_2$ in range $[10,500]\\ {\\rm \\Omega}$\n",
    "\n",
    "$R_3$ in range $[10,500]\\ {\\rm k \\Omega}$\n",
    "\n",
    "$R_4$ in range $[10,500]\\ {\\rm k \\Omega}$\n",
    "\n",
    "$R_5$ in range $[10,500]\\ {\\rm k \\Omega}$\n",
    "\n",
    "$T_{1,1}$ in range $[10,500]\\ {\\rm \\mu m}$\n",
    "\n",
    "$T_{1,2}$ in range $[10,500]\\ {\\rm \\mu m}$"
   ]
  },
  {
   "cell_type": "code",
   "execution_count": 9,
   "id": "62346ee3",
   "metadata": {},
   "outputs": [],
   "source": [
    "N_INV = 8"
   ]
  },
  {
   "cell_type": "code",
   "execution_count": 10,
   "id": "729404b9",
   "metadata": {},
   "outputs": [],
   "source": [
    "INV_sampling_ed = []\n",
    "for r1 in np.linspace(10,500,N_INV):\n",
    "    for r2 in np.linspace(10,500,N_INV):\n",
    "        for r3 in np.linspace(10,500,N_INV):\n",
    "            for r4 in np.linspace(10,500,N_INV):\n",
    "                for r5 in np.linspace(10,500,N_INV):\n",
    "                    for t11 in np.linspace(10,500,N_INV):\n",
    "                        for t12 in np.linspace(10,500,N_INV):\n",
    "                            INV_sampling_ed.append([r1, r2, r3, r4, r5, t11, t12])"
   ]
  },
  {
   "cell_type": "code",
   "execution_count": 11,
   "id": "3a9e1de5",
   "metadata": {},
   "outputs": [
    {
     "data": {
      "text/plain": [
       "array([[ 10.,  10.,  10.,  10.,  10.,  10.,  10.],\n",
       "       [ 10.,  10.,  10.,  10.,  10.,  10.,  80.],\n",
       "       [ 10.,  10.,  10.,  10.,  10.,  10., 150.],\n",
       "       [ 10.,  10.,  10.,  10.,  10.,  10., 220.],\n",
       "       [ 10.,  10.,  10.,  10.,  10.,  10., 290.],\n",
       "       [ 10.,  10.,  10.,  10.,  10.,  10., 360.],\n",
       "       [ 10.,  10.,  10.,  10.,  10.,  10., 430.],\n",
       "       [ 10.,  10.,  10.,  10.,  10.,  10., 500.],\n",
       "       [ 10.,  10.,  10.,  10.,  10.,  80.,  10.],\n",
       "       [ 10.,  10.,  10.,  10.,  10.,  80.,  80.],\n",
       "       [ 10.,  10.,  10.,  10.,  10.,  80., 150.],\n",
       "       [ 10.,  10.,  10.,  10.,  10.,  80., 220.],\n",
       "       [ 10.,  10.,  10.,  10.,  10.,  80., 290.],\n",
       "       [ 10.,  10.,  10.,  10.,  10.,  80., 360.],\n",
       "       [ 10.,  10.,  10.,  10.,  10.,  80., 430.],\n",
       "       [ 10.,  10.,  10.,  10.,  10.,  80., 500.],\n",
       "       [ 10.,  10.,  10.,  10.,  10., 150.,  10.],\n",
       "       [ 10.,  10.,  10.,  10.,  10., 150.,  80.],\n",
       "       [ 10.,  10.,  10.,  10.,  10., 150., 150.],\n",
       "       [ 10.,  10.,  10.,  10.,  10., 150., 220.]])"
      ]
     },
     "execution_count": 11,
     "metadata": {},
     "output_type": "execute_result"
    }
   ],
   "source": [
    "INV_sampling_ed = np.round(np.array(INV_sampling_ed))\n",
    "INV_sampling_ed[:20,:]"
   ]
  },
  {
   "cell_type": "code",
   "execution_count": 12,
   "id": "c74405f4",
   "metadata": {},
   "outputs": [
    {
     "data": {
      "text/plain": [
       "(2097152, 7)"
      ]
     },
     "execution_count": 12,
     "metadata": {},
     "output_type": "execute_result"
    }
   ],
   "source": [
    "INV_sampling_ed.shape"
   ]
  },
  {
   "cell_type": "code",
   "execution_count": 13,
   "id": "a65c2c04",
   "metadata": {},
   "outputs": [
    {
     "data": {
      "text/plain": [
       "array([[246., 385., 351., 410., 141., 232., 406.],\n",
       "       [246., 407.,  27.,  57., 168., 319.,  56.],\n",
       "       [ 15., 226., 487., 310., 313., 307., 430.],\n",
       "       [160., 420., 105.,  28., 219.,  53., 254.],\n",
       "       [379.,  84., 207.,  51., 245., 365., 334.],\n",
       "       [134., 334.,  43., 254.,  50.,  83., 250.],\n",
       "       [258., 300., 378., 212., 233., 336.,  54.],\n",
       "       [149., 417., 180., 471.,  43., 290.,  19.],\n",
       "       [403., 230., 177., 283., 115., 370., 449.],\n",
       "       [ 16., 152., 452., 114., 355., 368.,  16.],\n",
       "       [136.,  37., 361., 313.,  41., 112., 310.],\n",
       "       [195., 341.,  98., 184.,  72., 384., 285.],\n",
       "       [178., 286.,  89., 193., 105., 437.,  37.],\n",
       "       [470., 238.,  60., 483., 417., 299.,  52.],\n",
       "       [ 89.,  37., 471., 421.,  94., 424., 173.],\n",
       "       [112., 432.,  62., 293., 352.,  31., 305.],\n",
       "       [268., 405., 306.,  99., 166.,  40., 455.],\n",
       "       [125., 308.,  43., 153., 189., 224., 488.],\n",
       "       [239., 148., 273., 200., 461., 120., 406.],\n",
       "       [220., 177., 150., 286., 411.,  75., 449.]])"
      ]
     },
     "execution_count": 13,
     "metadata": {},
     "output_type": "execute_result"
    }
   ],
   "source": [
    "INV_sampling_mc = np.random.rand(N_INV**7,7)\n",
    "INV_sampling_mc = INV_sampling_mc*490 + 10\n",
    "INV_sampling_mc = np.round(INV_sampling_mc)\n",
    "INV_sampling_mc[:20,:]"
   ]
  },
  {
   "cell_type": "code",
   "execution_count": 14,
   "id": "6369552f",
   "metadata": {},
   "outputs": [
    {
     "data": {
      "text/plain": [
       "(2097152, 7)"
      ]
     },
     "execution_count": 14,
     "metadata": {},
     "output_type": "execute_result"
    }
   ],
   "source": [
    "INV_sampling_mc.shape"
   ]
  },
  {
   "cell_type": "markdown",
   "id": "3a21906f",
   "metadata": {},
   "source": [
    "# Question:\n",
    "\n",
    " - all transform to International Unit?\n",
    "\n",
    " - range of T is limited by technology?"
   ]
  }
 ],
 "metadata": {
  "kernelspec": {
   "display_name": "ML",
   "language": "python",
   "name": "ml"
  },
  "language_info": {
   "codemirror_mode": {
    "name": "ipython",
    "version": 3
   },
   "file_extension": ".py",
   "mimetype": "text/x-python",
   "name": "python",
   "nbconvert_exporter": "python",
   "pygments_lexer": "ipython3",
   "version": "3.8.13"
  },
  "toc": {
   "base_numbering": 1,
   "nav_menu": {},
   "number_sections": true,
   "sideBar": true,
   "skip_h1_title": false,
   "title_cell": "Table of Contents",
   "title_sidebar": "Contents",
   "toc_cell": false,
   "toc_position": {},
   "toc_section_display": true,
   "toc_window_display": false
  }
 },
 "nbformat": 4,
 "nbformat_minor": 5
}
