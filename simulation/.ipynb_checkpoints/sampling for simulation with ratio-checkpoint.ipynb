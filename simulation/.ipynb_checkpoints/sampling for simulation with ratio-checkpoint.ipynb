{
 "cells": [
  {
   "cell_type": "code",
   "execution_count": 1,
   "id": "19bd8494",
   "metadata": {},
   "outputs": [],
   "source": [
    "import numpy as np\n",
    "import torch"
   ]
  },
  {
   "cell_type": "markdown",
   "id": "7aa9bf38",
   "metadata": {},
   "source": [
    "# Number of sampling"
   ]
  },
  {
   "cell_type": "code",
   "execution_count": 2,
   "id": "dfb346f6",
   "metadata": {},
   "outputs": [],
   "source": [
    "N = 100000"
   ]
  },
  {
   "cell_type": "markdown",
   "id": "39731dc1",
   "metadata": {},
   "source": [
    "# Sampling for ACT simulation\n",
    "\n",
    "$R_1 = 200 \\ {\\rm k \\Omega}$\n",
    "\n",
    "$R_2/R_1 \\in [0.1, 10]$\n",
    "\n",
    "$T_{1,1}\\in [10,500] \\ {\\rm \\mu m}$\n",
    "\n",
    "$T_{1,2}\\in [10,500] \\ {\\rm \\mu m}$\n",
    "\n",
    "$T_{2,1}\\in [10,500] \\ {\\rm \\mu m}$\n",
    "\n",
    "$T_{2,2}\\in [10,500] \\ {\\rm \\mu m}$"
   ]
  },
  {
   "cell_type": "code",
   "execution_count": 24,
   "id": "48097f14",
   "metadata": {},
   "outputs": [],
   "source": [
    "# Brojo, you can change the value and range of ratio here for the components in ACT circuits\n",
    "r1  = 200\n",
    "\n",
    "ratio_r   = [0.1, 10]\n",
    "range_t11 = [10, 500]\n",
    "range_t12 = [10, 500]\n",
    "range_t21 = [10, 500]\n",
    "range_t22 = [10, 500]"
   ]
  },
  {
   "cell_type": "code",
   "execution_count": 25,
   "id": "e7ab740a",
   "metadata": {},
   "outputs": [],
   "source": [
    "RANGE = torch.tensor([ratio_r, range_t11, range_t12, range_t21, range_t22])"
   ]
  },
  {
   "cell_type": "code",
   "execution_count": 26,
   "id": "967a0ceb",
   "metadata": {},
   "outputs": [],
   "source": [
    "ACT_sampling_mc_ratio =  torch.quasirandom.SobolEngine(5).draw(N)\n",
    "ACT_sampling_mc_ratio = ACT_sampling_mc_ratio*(RANGE[:,1]-RANGE[:,0]) + RANGE[:,0]"
   ]
  },
  {
   "cell_type": "code",
   "execution_count": 27,
   "id": "13a99b8d",
   "metadata": {},
   "outputs": [],
   "source": [
    "ACT_sampling_mc = torch.zeros([N,6])\n",
    "ACT_sampling_mc[:,0] = r1\n",
    "ACT_sampling_mc[:,1] = ACT_sampling_mc_ratio[:,0] * r1\n",
    "ACT_sampling_mc[:,2] = ACT_sampling_mc_ratio[:,1]\n",
    "ACT_sampling_mc[:,3] = ACT_sampling_mc_ratio[:,2]\n",
    "ACT_sampling_mc[:,4] = ACT_sampling_mc_ratio[:,3]\n",
    "ACT_sampling_mc[:,5] = ACT_sampling_mc_ratio[:,4]"
   ]
  },
  {
   "cell_type": "code",
   "execution_count": 28,
   "id": "6cb7410e",
   "metadata": {},
   "outputs": [],
   "source": [
    "ACT_sampling_mc = np.round(ACT_sampling_mc)"
   ]
  },
  {
   "cell_type": "code",
   "execution_count": 29,
   "id": "74eb464d",
   "metadata": {},
   "outputs": [
    {
     "data": {
      "text/plain": [
       "tensor([[ 200.,   20.,   10.,   10.,   10.,   10.],\n",
       "        [ 200., 2000.,  500.,  500.,  500.,  500.]])"
      ]
     },
     "execution_count": 29,
     "metadata": {},
     "output_type": "execute_result"
    }
   ],
   "source": [
    "# check the real range of sampling\n",
    "torch.stack([torch.min(ACT_sampling_mc, dim=0)[0], torch.max(ACT_sampling_mc, dim=0)[0]])"
   ]
  },
  {
   "cell_type": "code",
   "execution_count": 9,
   "id": "b2b801cb",
   "metadata": {},
   "outputs": [
    {
     "data": {
      "text/plain": [
       "torch.Size([100000, 6])"
      ]
     },
     "execution_count": 9,
     "metadata": {},
     "output_type": "execute_result"
    }
   ],
   "source": [
    "np.savetxt('ACT_MC_RATIO.csv', ACT_sampling_mc, fmt='%d', delimiter=',')\n",
    "ACT_sampling_mc.shape"
   ]
  },
  {
   "cell_type": "markdown",
   "id": "9f53202f",
   "metadata": {},
   "source": [
    "# Sampling for INV\n",
    "\n",
    "$R_1 = 200 \\ {\\rm \\Omega}$\n",
    "\n",
    "$R_2/R_1 \\in [0.1, 10]$\n",
    "\n",
    "$R_3 = 50 \\ {\\rm k \\Omega}$\n",
    "\n",
    "$R_4/R_3 \\in [0.1, 10]$\n",
    "\n",
    "$R_5 \\in [10,500] \\ {\\rm k \\Omega}$\n",
    "\n",
    "$T_{1,1} \\in [10,500] \\ {\\rm \\mu m}$\n",
    "\n",
    "$T_{1,2} \\in [10,500] \\ {\\rm \\mu m}$"
   ]
  },
  {
   "cell_type": "code",
   "execution_count": 38,
   "id": "62346ee3",
   "metadata": {},
   "outputs": [],
   "source": [
    "# Brojo, you can change the value and range of ratio here for the components in INV circuits\n",
    "r1  = 200\n",
    "r3  = 50\n",
    "\n",
    "ratio_r21 = [0.1, 10]\n",
    "ratio_r43 = [0.1, 10]\n",
    "range_r5  = [10, 500]\n",
    "range_t11 = [10, 500]\n",
    "range_t12 = [10, 500]"
   ]
  },
  {
   "cell_type": "code",
   "execution_count": 39,
   "id": "9f310834",
   "metadata": {},
   "outputs": [],
   "source": [
    "RANGE = torch.tensor([ratio_r21, ratio_r43, range_r5, range_t11, range_t12])"
   ]
  },
  {
   "cell_type": "code",
   "execution_count": 40,
   "id": "a65c2c04",
   "metadata": {},
   "outputs": [],
   "source": [
    "INV_sampling_mc_ratio = torch.quasirandom.SobolEngine(5).draw(100000)\n",
    "INV_sampling_mc_ratio = INV_sampling_mc_ratio*(RANGE[:,1]-RANGE[:,0]) + RANGE[:,0]"
   ]
  },
  {
   "cell_type": "code",
   "execution_count": 41,
   "id": "8b378c6e",
   "metadata": {},
   "outputs": [],
   "source": [
    "INV_sampling_mc = torch.zeros([N, 7])\n",
    "INV_sampling_mc[:,0] = r1\n",
    "INV_sampling_mc[:,1] = INV_sampling_mc_ratio[:,0] * r1\n",
    "INV_sampling_mc[:,2] = r3\n",
    "INV_sampling_mc[:,3] = INV_sampling_mc_ratio[:,1] * r3\n",
    "INV_sampling_mc[:,4] = INV_sampling_mc_ratio[:,2]\n",
    "INV_sampling_mc[:,5] = INV_sampling_mc_ratio[:,3]\n",
    "INV_sampling_mc[:,6] = INV_sampling_mc_ratio[:,4]"
   ]
  },
  {
   "cell_type": "code",
   "execution_count": 42,
   "id": "91fa4f9f",
   "metadata": {},
   "outputs": [],
   "source": [
    "INV_sampling_mc = np.round(INV_sampling_mc)"
   ]
  },
  {
   "cell_type": "code",
   "execution_count": 43,
   "id": "6fa308a6",
   "metadata": {},
   "outputs": [
    {
     "data": {
      "text/plain": [
       "tensor([[ 200.,   20.,   50.,    5.,   10.,   10.,   10.],\n",
       "        [ 200., 2000.,   50.,  500.,  500.,  500.,  500.]])"
      ]
     },
     "execution_count": 43,
     "metadata": {},
     "output_type": "execute_result"
    }
   ],
   "source": [
    "# check the real range of sampling\n",
    "torch.stack([torch.min(INV_sampling_mc, dim=0)[0], torch.max(INV_sampling_mc, dim=0)[0]])"
   ]
  },
  {
   "cell_type": "code",
   "execution_count": 16,
   "id": "6369552f",
   "metadata": {},
   "outputs": [
    {
     "data": {
      "text/plain": [
       "torch.Size([100000, 7])"
      ]
     },
     "execution_count": 16,
     "metadata": {},
     "output_type": "execute_result"
    }
   ],
   "source": [
    "np.savetxt('INV_MC_RATIO.csv', INV_sampling_mc, fmt='%d', delimiter=',')\n",
    "INV_sampling_mc.shape"
   ]
  },
  {
   "cell_type": "code",
   "execution_count": null,
   "id": "641f0191",
   "metadata": {},
   "outputs": [],
   "source": []
  }
 ],
 "metadata": {
  "kernelspec": {
   "display_name": "ML",
   "language": "python",
   "name": "ml"
  },
  "language_info": {
   "codemirror_mode": {
    "name": "ipython",
    "version": 3
   },
   "file_extension": ".py",
   "mimetype": "text/x-python",
   "name": "python",
   "nbconvert_exporter": "python",
   "pygments_lexer": "ipython3",
   "version": "3.8.13"
  },
  "toc": {
   "base_numbering": 1,
   "nav_menu": {},
   "number_sections": true,
   "sideBar": true,
   "skip_h1_title": false,
   "title_cell": "Table of Contents",
   "title_sidebar": "Contents",
   "toc_cell": false,
   "toc_position": {},
   "toc_section_display": true,
   "toc_window_display": false
  }
 },
 "nbformat": 4,
 "nbformat_minor": 5
}
