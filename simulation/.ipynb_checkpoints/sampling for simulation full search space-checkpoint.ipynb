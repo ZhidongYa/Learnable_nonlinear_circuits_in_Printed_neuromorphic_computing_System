{
 "cells": [
  {
   "cell_type": "code",
   "execution_count": 16,
   "id": "19bd8494",
   "metadata": {},
   "outputs": [],
   "source": [
    "import numpy as np\n",
    "import torch"
   ]
  },
  {
   "cell_type": "markdown",
   "id": "97bad6b3",
   "metadata": {},
   "source": [
    "# Number of sampling"
   ]
  },
  {
   "cell_type": "code",
   "execution_count": 17,
   "id": "38e92330",
   "metadata": {},
   "outputs": [],
   "source": [
    "N = 100000"
   ]
  },
  {
   "cell_type": "markdown",
   "id": "39731dc1",
   "metadata": {},
   "source": [
    "# Sampling for ACT simulation\n",
    "\n",
    "$R_1$ in range $[10,500]\\ {\\rm k \\Omega}$\n",
    "\n",
    "$R_2$ in range $[10,500]\\ {\\rm k \\Omega}$\n",
    "\n",
    "$T_{1,1}$ in range $[10,500]\\ {\\rm \\mu m}$\n",
    "\n",
    "$T_{1,2}$ in range $[10,500]\\ {\\rm \\mu m}$\n",
    "\n",
    "$T_{2,1}$ in range $[10,500]\\ {\\rm \\mu m}$\n",
    "\n",
    "$T_{2,2}$ in range $[10,500]\\ {\\rm \\mu m}$"
   ]
  },
  {
   "cell_type": "code",
   "execution_count": 31,
   "id": "274fe854",
   "metadata": {},
   "outputs": [],
   "source": [
    "# Brojo, you can change the range here for the components in ACT circuits\n",
    "range_r1  = [10, 500]\n",
    "range_r2  = [10, 500]\n",
    "range_t11 = [10, 500]\n",
    "range_t12 = [10, 500]\n",
    "range_t21 = [10, 500]\n",
    "range_t22 = [10, 500]"
   ]
  },
  {
   "cell_type": "code",
   "execution_count": 32,
   "id": "16364c70",
   "metadata": {},
   "outputs": [],
   "source": [
    "RANGE = torch.tensor([range_r1, range_r2, range_t11, range_t12, range_t21, range_t22])"
   ]
  },
  {
   "cell_type": "code",
   "execution_count": 33,
   "id": "967a0ceb",
   "metadata": {},
   "outputs": [],
   "source": [
    "ACT_sampling_mc =  torch.quasirandom.SobolEngine(6).draw(N)\n",
    "ACT_sampling_mc = ACT_sampling_mc*(RANGE[:,1]-RANGE[:,0]) + RANGE[:,0]\n",
    "ACT_sampling_mc = np.round(ACT_sampling_mc)"
   ]
  },
  {
   "cell_type": "code",
   "execution_count": 34,
   "id": "9bf89f21",
   "metadata": {},
   "outputs": [
    {
     "data": {
      "text/plain": [
       "tensor([[ 10.,  10.,  10.,  10.,  10.,  10.],\n",
       "        [500., 500., 500., 500., 500., 500.]])"
      ]
     },
     "execution_count": 34,
     "metadata": {},
     "output_type": "execute_result"
    }
   ],
   "source": [
    "# check the real range of sampling\n",
    "torch.stack([torch.min(ACT_sampling_mc, dim=0)[0], torch.max(ACT_sampling_mc, dim=0)[0]])"
   ]
  },
  {
   "cell_type": "code",
   "execution_count": 22,
   "id": "b2b801cb",
   "metadata": {},
   "outputs": [
    {
     "data": {
      "text/plain": [
       "torch.Size([100000, 6])"
      ]
     },
     "execution_count": 22,
     "metadata": {},
     "output_type": "execute_result"
    }
   ],
   "source": [
    "np.savetxt('ACT_MC_FULL.csv', ACT_sampling_mc, fmt='%d', delimiter=',')\n",
    "ACT_sampling_mc.shape"
   ]
  },
  {
   "cell_type": "markdown",
   "id": "9f53202f",
   "metadata": {},
   "source": [
    "# Sampling for INV\n",
    "\n",
    "$R_1$ in range $[10,500]\\ {\\rm \\Omega}$\n",
    "\n",
    "$R_2$ in range $[10,500]\\ {\\rm \\Omega}$\n",
    "\n",
    "$R_3$ in range $[10,500]\\ {\\rm k \\Omega}$\n",
    "\n",
    "$R_4$ in range $[10,500]\\ {\\rm k \\Omega}$\n",
    "\n",
    "$R_5$ in range $[10,500]\\ {\\rm k \\Omega}$\n",
    "\n",
    "$T_{1,1}$ in range $[10,500]\\ {\\rm \\mu m}$\n",
    "\n",
    "$T_{1,2}$ in range $[10,500]\\ {\\rm \\mu m}$"
   ]
  },
  {
   "cell_type": "code",
   "execution_count": 35,
   "id": "62346ee3",
   "metadata": {},
   "outputs": [],
   "source": [
    "# Brojo, you can change the range here for the components in INV circuits\n",
    "range_r1  = [10, 500]\n",
    "range_r2  = [10, 500]\n",
    "range_r3  = [10, 500]\n",
    "range_r4  = [10, 500]\n",
    "range_r5  = [10, 500]\n",
    "range_t11 = [10, 500]\n",
    "range_t12 = [10, 500]"
   ]
  },
  {
   "cell_type": "code",
   "execution_count": 36,
   "id": "35a9acdb",
   "metadata": {},
   "outputs": [],
   "source": [
    "RANGE = torch.tensor([range_r1, range_r2, range_r3, range_r4, range_r5, range_t11, range_t12])"
   ]
  },
  {
   "cell_type": "code",
   "execution_count": 37,
   "id": "a65c2c04",
   "metadata": {},
   "outputs": [],
   "source": [
    "INV_sampling_mc = torch.quasirandom.SobolEngine(7).draw(N)\n",
    "INV_sampling_mc = INV_sampling_mc*(RANGE[:,1]-RANGE[:,0]) + RANGE[:,0]\n",
    "INV_sampling_mc = np.round(INV_sampling_mc)"
   ]
  },
  {
   "cell_type": "code",
   "execution_count": 38,
   "id": "ae48b75d",
   "metadata": {},
   "outputs": [
    {
     "data": {
      "text/plain": [
       "tensor([[ 10.,  20.,  30.,  40.,  50.,  60.,  70.],\n",
       "        [500., 400., 300., 200., 100., 600., 700.]])"
      ]
     },
     "execution_count": 38,
     "metadata": {},
     "output_type": "execute_result"
    }
   ],
   "source": [
    "# check the real range of sampling\n",
    "torch.stack([torch.min(INV_sampling_mc, dim=0)[0], torch.max(INV_sampling_mc, dim=0)[0]])"
   ]
  },
  {
   "cell_type": "code",
   "execution_count": 12,
   "id": "6369552f",
   "metadata": {},
   "outputs": [
    {
     "data": {
      "text/plain": [
       "torch.Size([100000, 7])"
      ]
     },
     "execution_count": 12,
     "metadata": {},
     "output_type": "execute_result"
    }
   ],
   "source": [
    "np.savetxt('INV_MC_FULL.csv', INV_sampling_mc, fmt='%d', delimiter=',')\n",
    "INV_sampling_mc.shape"
   ]
  }
 ],
 "metadata": {
  "kernelspec": {
   "display_name": "ML",
   "language": "python",
   "name": "ml"
  },
  "language_info": {
   "codemirror_mode": {
    "name": "ipython",
    "version": 3
   },
   "file_extension": ".py",
   "mimetype": "text/x-python",
   "name": "python",
   "nbconvert_exporter": "python",
   "pygments_lexer": "ipython3",
   "version": "3.8.13"
  },
  "toc": {
   "base_numbering": 1,
   "nav_menu": {},
   "number_sections": true,
   "sideBar": true,
   "skip_h1_title": false,
   "title_cell": "Table of Contents",
   "title_sidebar": "Contents",
   "toc_cell": false,
   "toc_position": {},
   "toc_section_display": true,
   "toc_window_display": false
  }
 },
 "nbformat": 4,
 "nbformat_minor": 5
}
