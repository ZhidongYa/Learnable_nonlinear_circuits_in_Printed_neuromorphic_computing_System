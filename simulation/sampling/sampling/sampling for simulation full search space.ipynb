{
 "cells": [
  {
   "cell_type": "code",
   "execution_count": 1,
   "id": "80b73224",
   "metadata": {},
   "outputs": [],
   "source": [
    "import numpy as np\n",
    "import torch\n",
    "import matplotlib.pyplot as plt"
   ]
  },
  {
   "cell_type": "markdown",
   "id": "e6e5877d",
   "metadata": {},
   "source": [
    "# Number of sampling"
   ]
  },
  {
   "cell_type": "code",
   "execution_count": 2,
   "id": "a5a58007",
   "metadata": {},
   "outputs": [],
   "source": [
    "N = 500000"
   ]
  },
  {
   "cell_type": "markdown",
   "id": "da1fcae0",
   "metadata": {},
   "source": [
    "# Sampling for ACT simulation\n",
    "\n",
    "$R_1$ in range $[15,600]\\ {\\rm \\Omega}$\n",
    "\n",
    "$R_2$ in range $[5,250]\\ {\\rm \\Omega}$\n",
    "\n",
    "$T_{1,W}$ in range $[30,200]\\ {\\rm \\mu m}$\n",
    "\n",
    "$T_{1,L}$ in range $[20,120]\\ {\\rm \\mu m}$\n",
    "\n",
    "$T_{2,W}$ in range $[200,800]\\ {\\rm \\mu m}$\n",
    "\n",
    "$T_{2,L}$ in range $[10,70]\\ {\\rm \\mu m}$\n",
    "\n",
    "**Constraits:**\n",
    "\n",
    "$R_1 - R_2 > 0$\n",
    "\n",
    "$T_{1,W} - T_{1,L} > 0$\n",
    "\n",
    "$T_{2,W} - T_{2,L} > 0$"
   ]
  },
  {
   "cell_type": "code",
   "execution_count": 3,
   "id": "7c5f1411",
   "metadata": {},
   "outputs": [],
   "source": [
    "# Brojo, you can change the range here for the components in ACT circuits\n",
    "range_r1  = [15, 600]\n",
    "range_r2  = [5, 250]\n",
    "range_t11 = [30, 200]\n",
    "range_t12 = [20, 120]\n",
    "range_t21 = [200, 800]\n",
    "range_t22 = [10, 70]"
   ]
  },
  {
   "cell_type": "code",
   "execution_count": 4,
   "id": "35465f53",
   "metadata": {},
   "outputs": [],
   "source": [
    "RANGE = torch.tensor([range_r1, range_r2, range_t11, range_t12, range_t21, range_t22])"
   ]
  },
  {
   "cell_type": "code",
   "execution_count": 5,
   "id": "3fca4354",
   "metadata": {},
   "outputs": [],
   "source": [
    "ACT_sampling_mc =  torch.quasirandom.SobolEngine(6).draw(N)\n",
    "ACT_sampling_mc = ACT_sampling_mc*(RANGE[:,1]-RANGE[:,0]) + RANGE[:,0]\n",
    "ACT_sampling_mc = np.round(ACT_sampling_mc)"
   ]
  },
  {
   "cell_type": "code",
   "execution_count": 6,
   "id": "5855d64f",
   "metadata": {},
   "outputs": [],
   "source": [
    "r1 = ACT_sampling_mc[:,0]\n",
    "r2 = ACT_sampling_mc[:,1]\n",
    "W1 = ACT_sampling_mc[:,2]\n",
    "L1 = ACT_sampling_mc[:,3]\n",
    "W2 = ACT_sampling_mc[:,4]\n",
    "L2 = ACT_sampling_mc[:,5]"
   ]
  },
  {
   "cell_type": "markdown",
   "id": "8b33c51d",
   "metadata": {},
   "source": [
    "# Remove unsuitable values\n",
    "\n",
    "$\\frac {a - b}{|a-b|} = {\\rm sign} {\\left( a-b \\right)} \\in \\{-1,1, nan\\}$, where `nan` appears when $a = b$.\n",
    "\n",
    "Then we use ReLU function:\n",
    "\n",
    "In case $a>b$: ${\\rm sign} {\\left( a-b \\right)}=1$, we keep this value;\n",
    "\n",
    "In case $a<b$: ${\\rm sign} {\\left( a-b \\right)}=-1$, ReLu transform the value to $0$;\n",
    "\n",
    "In case $a=b$: we transform `nan` manuelly to $0$."
   ]
  },
  {
   "cell_type": "code",
   "execution_count": 7,
   "id": "4093d830",
   "metadata": {},
   "outputs": [],
   "source": [
    "MASK1 = torch.nn.functional.relu((r1 - r2) / (r1 - r2).abs()).view(-1,1)\n",
    "MASK2 = torch.nn.functional.relu((W1 - L1) / (W1 - L1).abs()).view(-1,1)\n",
    "MASK3 = torch.nn.functional.relu((W2 - L2) / (W2 - L2).abs()).view(-1,1)\n",
    "MASK1 = torch.nan_to_num(MASK1)\n",
    "MASK2 = torch.nan_to_num(MASK2)\n",
    "MASK3 = torch.nan_to_num(MASK3)"
   ]
  },
  {
   "cell_type": "markdown",
   "id": "047ebcd6",
   "metadata": {},
   "source": [
    "After calculate the mask, we multiply mask to the sampling, and then, the unsuitable rows become 0. Then, we remove the 0-valued rows."
   ]
  },
  {
   "cell_type": "code",
   "execution_count": 8,
   "id": "1c9c53d6",
   "metadata": {},
   "outputs": [
    {
     "data": {
      "text/plain": [
       "tensor([[ 15.,   5.,  30.,  20., 200.,  10.],\n",
       "        [308., 128., 115.,  70., 500.,  40.],\n",
       "        [454.,  66.,  72.,  45., 650.,  55.],\n",
       "        ...,\n",
       "        [476., 244., 144.,  48., 314.,  59.],\n",
       "        [329.,  60., 102.,  73., 464.,  44.],\n",
       "        [  0.,   0.,   0.,   0.,   0.,   0.]])"
      ]
     },
     "execution_count": 8,
     "metadata": {},
     "output_type": "execute_result"
    }
   ],
   "source": [
    "ACT_sampling_mc = ACT_sampling_mc * MASK1 * MASK2 * MASK3\n",
    "ACT_sampling_mc"
   ]
  },
  {
   "cell_type": "code",
   "execution_count": 9,
   "id": "77e68b34",
   "metadata": {},
   "outputs": [
    {
     "name": "stdout",
     "output_type": "stream",
     "text": [
      "tensor([[ 15.,   5.,  30.,  20., 200.,  10.],\n",
      "        [308., 128., 115.,  70., 500.,  40.],\n",
      "        [454.,  66.,  72.,  45., 650.,  55.],\n",
      "        ...,\n",
      "        [549.,  91., 165.,  60., 239.,  52.],\n",
      "        [476., 244., 144.,  48., 314.,  59.],\n",
      "        [329.,  60., 102.,  73., 464.,  44.]])\n"
     ]
    },
    {
     "data": {
      "text/plain": [
       "torch.Size([306103, 6])"
      ]
     },
     "execution_count": 9,
     "metadata": {},
     "output_type": "execute_result"
    }
   ],
   "source": [
    "ACT_sampling_mc = ACT_sampling_mc[ACT_sampling_mc.sum(dim=1) != 0.]\n",
    "print(ACT_sampling_mc)\n",
    "ACT_sampling_mc.shape"
   ]
  },
  {
   "cell_type": "code",
   "execution_count": 10,
   "id": "f2602cec",
   "metadata": {},
   "outputs": [
    {
     "data": {
      "text/plain": [
       "tensor([[ 15.,   5.,  30.,  20., 200.,  10.],\n",
       "        [600., 250., 200., 120., 800.,  70.]])"
      ]
     },
     "execution_count": 10,
     "metadata": {},
     "output_type": "execute_result"
    }
   ],
   "source": [
    "# check the real range of sampling\n",
    "torch.stack([torch.min(ACT_sampling_mc, dim=0)[0], torch.max(ACT_sampling_mc, dim=0)[0]])"
   ]
  },
  {
   "cell_type": "code",
   "execution_count": 11,
   "id": "51e296a9",
   "metadata": {},
   "outputs": [],
   "source": [
    "ACT_sampling_mc = ACT_sampling_mc[:100000,:]"
   ]
  },
  {
   "cell_type": "code",
   "execution_count": 12,
   "id": "4dde0518",
   "metadata": {},
   "outputs": [
    {
     "data": {
      "text/plain": [
       "torch.Size([100000, 6])"
      ]
     },
     "execution_count": 12,
     "metadata": {},
     "output_type": "execute_result"
    }
   ],
   "source": [
    "np.savetxt('ACT_MC_FULL.csv', ACT_sampling_mc, fmt='%d', delimiter=',')\n",
    "ACT_sampling_mc.shape"
   ]
  },
  {
   "cell_type": "code",
   "execution_count": 13,
   "id": "40fde8e8",
   "metadata": {},
   "outputs": [
    {
     "data": {
      "text/plain": [
       "<matplotlib.collections.PathCollection at 0x7fbb05046fa0>"
      ]
     },
     "execution_count": 13,
     "metadata": {},
     "output_type": "execute_result"
    },
    {
     "data": {
      "image/png": "[encoded data removed]",
      "text/plain": [
       "<Figure size 432x288 with 1 Axes>"
      ]
     },
     "metadata": {
      "needs_background": "light"
     },
     "output_type": "display_data"
    }
   ],
   "source": [
    "plt.scatter(ACT_sampling_mc[:100,0],ACT_sampling_mc[:100,1])"
   ]
  },
  {
   "cell_type": "markdown",
   "id": "9dd399e8",
   "metadata": {},
   "source": [
    "# Sampling for INV\n",
    "\n",
    "$R_1$ in range $[10,500]\\ {\\rm \\Omega}$\n",
    "\n",
    "$R_2$ in range $[5,250]\\ {\\rm \\Omega}$\n",
    "\n",
    "$R_3$ in range $[10500]\\ {\\rm k \\Omega}$\n",
    "\n",
    "$R_4$ in range $[8,400]\\ {\\rm k \\Omega}$\n",
    "\n",
    "$R_5$ in range $[10500]\\ {\\rm k \\Omega}$\n",
    "\n",
    "$T_{1,W}$ in range $[200,800]\\ {\\rm \\mu m}$\n",
    "\n",
    "$T_{1,L}$ in range $[10,70]\\ {\\rm \\mu m}$\n",
    "\n",
    "**Constraits:**\n",
    "\n",
    "$R_1 - R_2 > 0$\n",
    "\n",
    "$R_3 - R_4 > 0$\n",
    "\n",
    "$\\frac{R_1}{R_2} - \\frac{R_3}{R_4} > 0$\n",
    "\n",
    "$T_{1,W} - T_{1,L} > 0$"
   ]
  },
  {
   "cell_type": "code",
   "execution_count": 14,
   "id": "a996c5aa",
   "metadata": {},
   "outputs": [],
   "source": [
    "# Brojo, you can change the range here for the components in INV circuits\n",
    "range_r1  = [10,  500]\n",
    "range_r2  = [5,   250]\n",
    "range_r3  = [10,  500]\n",
    "range_r4  = [8,   400]\n",
    "range_r5  = [10,  500]\n",
    "range_t11 = [200, 800]\n",
    "range_t12 = [10,  70]"
   ]
  },
  {
   "cell_type": "code",
   "execution_count": 15,
   "id": "ed2766eb",
   "metadata": {},
   "outputs": [],
   "source": [
    "RANGE = torch.tensor([range_r1, range_r2, range_r3, range_r4, range_r5, range_t11, range_t12])"
   ]
  },
  {
   "cell_type": "code",
   "execution_count": 16,
   "id": "2e8c9939",
   "metadata": {},
   "outputs": [],
   "source": [
    "INV_sampling_mc = torch.quasirandom.SobolEngine(7).draw(N)\n",
    "INV_sampling_mc = INV_sampling_mc*(RANGE[:,1]-RANGE[:,0]) + RANGE[:,0]\n",
    "INV_sampling_mc = np.round(INV_sampling_mc)"
   ]
  },
  {
   "cell_type": "markdown",
   "id": "cc4ce542",
   "metadata": {},
   "source": [
    "# Remove unsuitable sampling"
   ]
  },
  {
   "cell_type": "code",
   "execution_count": 17,
   "id": "17002afd",
   "metadata": {},
   "outputs": [],
   "source": [
    "r1 = INV_sampling_mc[:,0]\n",
    "r2 = INV_sampling_mc[:,1]\n",
    "r3 = INV_sampling_mc[:,2]\n",
    "r4 = INV_sampling_mc[:,3]\n",
    "W = INV_sampling_mc[:,5]\n",
    "L = INV_sampling_mc[:,6]"
   ]
  },
  {
   "cell_type": "code",
   "execution_count": 18,
   "id": "dfacab82",
   "metadata": {},
   "outputs": [],
   "source": [
    "MASK1 = torch.nn.functional.relu((r1 - r2) / (r1 - r2).abs()).view(-1,1)\n",
    "MASK2 = torch.nn.functional.relu((r3 - r4) / (r3 - r4).abs()).view(-1,1)\n",
    "MASK3 = torch.nn.functional.relu((r1/r2 - r3/r4) / (r1/r2 - r3/r4).abs()).view(-1,1)\n",
    "MASK4 = torch.nn.functional.relu((W - L) / (W - L).abs()).view(-1,1)\n",
    "MASK1 = torch.nan_to_num(MASK1)\n",
    "MASK2 = torch.nan_to_num(MASK2)\n",
    "MASK3 = torch.nan_to_num(MASK3)\n",
    "MASK4 = torch.nan_to_num(MASK4)"
   ]
  },
  {
   "cell_type": "code",
   "execution_count": 19,
   "id": "49c1a58a",
   "metadata": {},
   "outputs": [
    {
     "data": {
      "text/plain": [
       "tensor([[ 10.,   5.,  10.,  ...,  10., 200.,  10.],\n",
       "        [255., 128., 255.,  ..., 255., 500.,  40.],\n",
       "        [378.,  66., 132.,  ..., 378., 650.,  25.],\n",
       "        ...,\n",
       "        [  0.,   0.,   0.,  ...,   0.,   0.,   0.],\n",
       "        [273.,  60., 217.,  ..., 226., 544.,  11.],\n",
       "        [  0.,   0.,   0.,  ...,   0.,   0.,   0.]])"
      ]
     },
     "execution_count": 19,
     "metadata": {},
     "output_type": "execute_result"
    }
   ],
   "source": [
    "INV_sampling_mc = INV_sampling_mc * MASK1 * MASK2 * MASK3 * MASK4\n",
    "INV_sampling_mc"
   ]
  },
  {
   "cell_type": "code",
   "execution_count": 20,
   "id": "d2a62703",
   "metadata": {},
   "outputs": [
    {
     "name": "stdout",
     "output_type": "stream",
     "text": [
      "tensor([[ 10.,   5.,  10.,  ...,  10., 200.,  10.],\n",
      "        [255., 128., 255.,  ..., 255., 500.,  40.],\n",
      "        [378.,  66., 132.,  ..., 378., 650.,  25.],\n",
      "        ...,\n",
      "        [488., 167., 186.,  ..., 318., 506.,  52.],\n",
      "        [457.,  91., 400.,  ...,  42., 619.,  34.],\n",
      "        [273.,  60., 217.,  ..., 226., 544.,  11.]])\n"
     ]
    },
    {
     "data": {
      "text/plain": [
       "torch.Size([136153, 7])"
      ]
     },
     "execution_count": 20,
     "metadata": {},
     "output_type": "execute_result"
    }
   ],
   "source": [
    "INV_sampling_mc = INV_sampling_mc[INV_sampling_mc.sum(dim=1) != 0.]\n",
    "print(INV_sampling_mc)\n",
    "INV_sampling_mc.shape"
   ]
  },
  {
   "cell_type": "code",
   "execution_count": 21,
   "id": "7af12223",
   "metadata": {},
   "outputs": [
    {
     "data": {
      "text/plain": [
       "tensor([[ 10.,   5.,  10.,   8.,  10., 200.,  10.],\n",
       "        [500., 250., 500., 400., 500., 800.,  70.]])"
      ]
     },
     "execution_count": 21,
     "metadata": {},
     "output_type": "execute_result"
    }
   ],
   "source": [
    "# check the real range of sampling\n",
    "torch.stack([torch.min(INV_sampling_mc, dim=0)[0], torch.max(INV_sampling_mc, dim=0)[0]])"
   ]
  },
  {
   "cell_type": "code",
   "execution_count": 22,
   "id": "c090e9cf",
   "metadata": {},
   "outputs": [],
   "source": [
    "INV_sampling_mc = INV_sampling_mc[:100000,:]"
   ]
  },
  {
   "cell_type": "code",
   "execution_count": 23,
   "id": "9e3694b1",
   "metadata": {},
   "outputs": [
    {
     "data": {
      "text/plain": [
       "torch.Size([100000, 7])"
      ]
     },
     "execution_count": 23,
     "metadata": {},
     "output_type": "execute_result"
    }
   ],
   "source": [
    "np.savetxt('INV_MC_FULL.csv', INV_sampling_mc, fmt='%d', delimiter=',')\n",
    "INV_sampling_mc.shape"
   ]
  }
 ],
 "metadata": {
  "kernelspec": {
   "display_name": "Python 3 (ipykernel)",
   "language": "python",
   "name": "python3"
  },
  "language_info": {
   "codemirror_mode": {
    "name": "ipython",
    "version": 3
   },
   "file_extension": ".py",
   "mimetype": "text/x-python",
   "name": "python",
   "nbconvert_exporter": "python",
   "pygments_lexer": "ipython3",
   "version": "3.9.12"
  },
  "toc": {
   "base_numbering": 1,
   "nav_menu": {},
   "number_sections": true,
   "sideBar": true,
   "skip_h1_title": false,
   "title_cell": "Table of Contents",
   "title_sidebar": "Contents",
   "toc_cell": false,
   "toc_position": {},
   "toc_section_display": true,
   "toc_window_display": false
  }
 },
 "nbformat": 4,
 "nbformat_minor": 5
}
